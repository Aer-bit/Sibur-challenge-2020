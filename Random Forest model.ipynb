{
 "cells": [
  {
   "cell_type": "code",
   "execution_count": 1,
   "metadata": {},
   "outputs": [],
   "source": [
    "from matplotlib import style\n",
    "style.use('dark_background')"
   ]
  },
  {
   "cell_type": "code",
   "execution_count": 2,
   "metadata": {},
   "outputs": [],
   "source": [
    "import numpy as np\n",
    "from strsimpy.levenshtein import Levenshtein\n",
    "from strsimpy.normalized_levenshtein import NormalizedLevenshtein"
   ]
  },
  {
   "cell_type": "code",
   "execution_count": 3,
   "metadata": {},
   "outputs": [
    {
     "name": "stdout",
     "output_type": "stream",
     "text": [
      "Populating the interactive namespace from numpy and matplotlib\n"
     ]
    }
   ],
   "source": [
    "%pylab inline\n",
    "plt.style.use(\"bmh\")"
   ]
  },
  {
   "cell_type": "code",
   "execution_count": 4,
   "metadata": {},
   "outputs": [],
   "source": [
    "import pathlib\n",
    "import pandas as pd\n",
    "\n",
    "from sklearn.metrics import classification_report, f1_score\n",
    "from sklearn.model_selection import StratifiedShuffleSplit\n",
    "from sklearn.ensemble import RandomForestClassifier\n",
    "from sklearn.linear_model import LogisticRegression"
   ]
  },
  {
   "cell_type": "code",
   "execution_count": 5,
   "metadata": {},
   "outputs": [
    {
     "name": "stderr",
     "output_type": "stream",
     "text": [
      "C:\\Users\\Dima\\anaconda3\\lib\\site-packages\\tqdm\\std.py:668: FutureWarning: The Panel class is removed from pandas. Accessing it from the top-level namespace will also be removed in the next version\n",
      "  from pandas import Panel\n"
     ]
    }
   ],
   "source": [
    "from tqdm import tqdm\n",
    "tqdm.pandas()"
   ]
  },
  {
   "cell_type": "code",
   "execution_count": 6,
   "metadata": {},
   "outputs": [],
   "source": [
    "RS = 7345"
   ]
  },
  {
   "cell_type": "markdown",
   "metadata": {},
   "source": [
    "# Загрузка данных"
   ]
  },
  {
   "cell_type": "code",
   "execution_count": 7,
   "metadata": {},
   "outputs": [],
   "source": [
    "train = pd.read_csv(\"train.csv\", index_col=\"pair_id\")\n",
    "test = pd.read_csv(\"test.csv\", index_col=\"pair_id\")"
   ]
  },
  {
   "cell_type": "code",
   "execution_count": 8,
   "metadata": {},
   "outputs": [
    {
     "data": {
      "text/html": [
       "<div>\n",
       "<style scoped>\n",
       "    .dataframe tbody tr th:only-of-type {\n",
       "        vertical-align: middle;\n",
       "    }\n",
       "\n",
       "    .dataframe tbody tr th {\n",
       "        vertical-align: top;\n",
       "    }\n",
       "\n",
       "    .dataframe thead th {\n",
       "        text-align: right;\n",
       "    }\n",
       "</style>\n",
       "<table border=\"1\" class=\"dataframe\">\n",
       "  <thead>\n",
       "    <tr style=\"text-align: right;\">\n",
       "      <th></th>\n",
       "      <th>name_1</th>\n",
       "      <th>name_2</th>\n",
       "      <th>is_duplicate</th>\n",
       "    </tr>\n",
       "    <tr>\n",
       "      <th>pair_id</th>\n",
       "      <th></th>\n",
       "      <th></th>\n",
       "      <th></th>\n",
       "    </tr>\n",
       "  </thead>\n",
       "  <tbody>\n",
       "    <tr>\n",
       "      <th>1</th>\n",
       "      <td>Iko Industries Ltd.</td>\n",
       "      <td>Enormous Industrial Trade Pvt., Ltd.</td>\n",
       "      <td>0</td>\n",
       "    </tr>\n",
       "    <tr>\n",
       "      <th>2</th>\n",
       "      <td>Apcotex Industries Ltd.</td>\n",
       "      <td>Technocraft Industries (India) Ltd.</td>\n",
       "      <td>0</td>\n",
       "    </tr>\n",
       "    <tr>\n",
       "      <th>3</th>\n",
       "      <td>Rishichem Distributors Pvt., Ltd.</td>\n",
       "      <td>Dsa</td>\n",
       "      <td>0</td>\n",
       "    </tr>\n",
       "    <tr>\n",
       "      <th>4</th>\n",
       "      <td>Powermax Rubber Factory</td>\n",
       "      <td>Co. One</td>\n",
       "      <td>0</td>\n",
       "    </tr>\n",
       "    <tr>\n",
       "      <th>5</th>\n",
       "      <td>Tress A/S</td>\n",
       "      <td>Longyou Industries Park Zhejiang</td>\n",
       "      <td>0</td>\n",
       "    </tr>\n",
       "  </tbody>\n",
       "</table>\n",
       "</div>"
      ],
      "text/plain": [
       "                                    name_1  \\\n",
       "pair_id                                      \n",
       "1                      Iko Industries Ltd.   \n",
       "2                  Apcotex Industries Ltd.   \n",
       "3        Rishichem Distributors Pvt., Ltd.   \n",
       "4                  Powermax Rubber Factory   \n",
       "5                                Tress A/S   \n",
       "\n",
       "                                       name_2  is_duplicate  \n",
       "pair_id                                                      \n",
       "1        Enormous Industrial Trade Pvt., Ltd.             0  \n",
       "2         Technocraft Industries (India) Ltd.             0  \n",
       "3                                         Dsa             0  \n",
       "4                                     Co. One             0  \n",
       "5            Longyou Industries Park Zhejiang             0  "
      ]
     },
     "execution_count": 8,
     "metadata": {},
     "output_type": "execute_result"
    }
   ],
   "source": [
    "train.head()"
   ]
  },
  {
   "cell_type": "code",
   "execution_count": 9,
   "metadata": {},
   "outputs": [
    {
     "data": {
      "text/html": [
       "<div>\n",
       "<style scoped>\n",
       "    .dataframe tbody tr th:only-of-type {\n",
       "        vertical-align: middle;\n",
       "    }\n",
       "\n",
       "    .dataframe tbody tr th {\n",
       "        vertical-align: top;\n",
       "    }\n",
       "\n",
       "    .dataframe thead th {\n",
       "        text-align: right;\n",
       "    }\n",
       "</style>\n",
       "<table border=\"1\" class=\"dataframe\">\n",
       "  <thead>\n",
       "    <tr style=\"text-align: right;\">\n",
       "      <th></th>\n",
       "      <th>name_1</th>\n",
       "      <th>name_2</th>\n",
       "    </tr>\n",
       "    <tr>\n",
       "      <th>pair_id</th>\n",
       "      <th></th>\n",
       "      <th></th>\n",
       "    </tr>\n",
       "  </thead>\n",
       "  <tbody>\n",
       "    <tr>\n",
       "      <th>1</th>\n",
       "      <td>Sun Blinds Decoration Inc.</td>\n",
       "      <td>Indl De Cuautitlan Sa Cv</td>\n",
       "    </tr>\n",
       "    <tr>\n",
       "      <th>2</th>\n",
       "      <td>Eih Ltd.</td>\n",
       "      <td>Dongguan Wei Shi Plastic Product Co., Ltd.</td>\n",
       "    </tr>\n",
       "    <tr>\n",
       "      <th>3</th>\n",
       "      <td>Jsh Ltd. (Hk)</td>\n",
       "      <td>Arab Shipbuilding And Repair Yard C</td>\n",
       "    </tr>\n",
       "    <tr>\n",
       "      <th>4</th>\n",
       "      <td>Better Industrial Ltd.</td>\n",
       "      <td>Farmacap Industria E Comercio Ltda</td>\n",
       "    </tr>\n",
       "    <tr>\n",
       "      <th>5</th>\n",
       "      <td>Equipos Inoxidables Del Norte Sa De Cv</td>\n",
       "      <td>Bel Inc.</td>\n",
       "    </tr>\n",
       "  </tbody>\n",
       "</table>\n",
       "</div>"
      ],
      "text/plain": [
       "                                         name_1  \\\n",
       "pair_id                                           \n",
       "1                    Sun Blinds Decoration Inc.   \n",
       "2                                      Eih Ltd.   \n",
       "3                                 Jsh Ltd. (Hk)   \n",
       "4                        Better Industrial Ltd.   \n",
       "5        Equipos Inoxidables Del Norte Sa De Cv   \n",
       "\n",
       "                                             name_2  \n",
       "pair_id                                              \n",
       "1                          Indl De Cuautitlan Sa Cv  \n",
       "2        Dongguan Wei Shi Plastic Product Co., Ltd.  \n",
       "3               Arab Shipbuilding And Repair Yard C  \n",
       "4                Farmacap Industria E Comercio Ltda  \n",
       "5                                          Bel Inc.  "
      ]
     },
     "execution_count": 9,
     "metadata": {},
     "output_type": "execute_result"
    }
   ],
   "source": [
    "test.head()"
   ]
  },
  {
   "cell_type": "code",
   "execution_count": 10,
   "metadata": {},
   "outputs": [
    {
     "name": "stdout",
     "output_type": "stream",
     "text": [
      "<class 'pandas.core.frame.DataFrame'>\n",
      "Int64Index: 497819 entries, 1 to 497819\n",
      "Data columns (total 3 columns):\n",
      " #   Column        Non-Null Count   Dtype \n",
      "---  ------        --------------   ----- \n",
      " 0   name_1        497819 non-null  object\n",
      " 1   name_2        497819 non-null  object\n",
      " 2   is_duplicate  497819 non-null  int64 \n",
      "dtypes: int64(1), object(2)\n",
      "memory usage: 15.2+ MB\n"
     ]
    }
   ],
   "source": [
    "train.info()"
   ]
  },
  {
   "cell_type": "code",
   "execution_count": 11,
   "metadata": {},
   "outputs": [
    {
     "name": "stdout",
     "output_type": "stream",
     "text": [
      "<class 'pandas.core.frame.DataFrame'>\n",
      "Int64Index: 213249 entries, 1 to 213249\n",
      "Data columns (total 2 columns):\n",
      " #   Column  Non-Null Count   Dtype \n",
      "---  ------  --------------   ----- \n",
      " 0   name_1  213249 non-null  object\n",
      " 1   name_2  213249 non-null  object\n",
      "dtypes: object(2)\n",
      "memory usage: 4.9+ MB\n"
     ]
    }
   ],
   "source": [
    "test.info()"
   ]
  },
  {
   "cell_type": "markdown",
   "metadata": {},
   "source": [
    "# Статистика таргета"
   ]
  },
  {
   "cell_type": "code",
   "execution_count": 12,
   "metadata": {},
   "outputs": [
    {
     "data": {
      "text/plain": [
       "0    494161\n",
       "1      3658\n",
       "Name: is_duplicate, dtype: int64"
      ]
     },
     "execution_count": 12,
     "metadata": {},
     "output_type": "execute_result"
    }
   ],
   "source": [
    "train.is_duplicate.value_counts()"
   ]
  },
  {
   "cell_type": "code",
   "execution_count": 13,
   "metadata": {},
   "outputs": [
    {
     "data": {
      "text/html": [
       "<div>\n",
       "<style scoped>\n",
       "    .dataframe tbody tr th:only-of-type {\n",
       "        vertical-align: middle;\n",
       "    }\n",
       "\n",
       "    .dataframe tbody tr th {\n",
       "        vertical-align: top;\n",
       "    }\n",
       "\n",
       "    .dataframe thead th {\n",
       "        text-align: right;\n",
       "    }\n",
       "</style>\n",
       "<table border=\"1\" class=\"dataframe\">\n",
       "  <thead>\n",
       "    <tr style=\"text-align: right;\">\n",
       "      <th></th>\n",
       "      <th>name_1</th>\n",
       "      <th>name_2</th>\n",
       "      <th>is_duplicate</th>\n",
       "    </tr>\n",
       "    <tr>\n",
       "      <th>pair_id</th>\n",
       "      <th></th>\n",
       "      <th></th>\n",
       "      <th></th>\n",
       "    </tr>\n",
       "  </thead>\n",
       "  <tbody>\n",
       "    <tr>\n",
       "      <th>299025</th>\n",
       "      <td>SERVICOM (OFF-SPEC)</td>\n",
       "      <td>Servicom S.A. (BVMT:SERVI) - سرفيكوم</td>\n",
       "      <td>1</td>\n",
       "    </tr>\n",
       "    <tr>\n",
       "      <th>377179</th>\n",
       "      <td>BINNE</td>\n",
       "      <td>Binne &amp; Sohn GmbH &amp; Co KG</td>\n",
       "      <td>1</td>\n",
       "    </tr>\n",
       "    <tr>\n",
       "      <th>426526</th>\n",
       "      <td>Fenner USA</td>\n",
       "      <td>Fenner Dunlop (Toledo), Llc</td>\n",
       "      <td>1</td>\n",
       "    </tr>\n",
       "    <tr>\n",
       "      <th>312218</th>\n",
       "      <td>SOPREMA OBERROSSBACH</td>\n",
       "      <td>SOPREMA S.A.S.</td>\n",
       "      <td>1</td>\n",
       "    </tr>\n",
       "    <tr>\n",
       "      <th>157890</th>\n",
       "      <td>Arlanxeo Singapore Pte., Ltd.</td>\n",
       "      <td>Arlanxeo Usa Llc</td>\n",
       "      <td>1</td>\n",
       "    </tr>\n",
       "  </tbody>\n",
       "</table>\n",
       "</div>"
      ],
      "text/plain": [
       "                                name_1                                name_2  \\\n",
       "pair_id                                                                        \n",
       "299025             SERVICOM (OFF-SPEC)  Servicom S.A. (BVMT:SERVI) - سرفيكوم   \n",
       "377179                           BINNE             Binne & Sohn GmbH & Co KG   \n",
       "426526                      Fenner USA           Fenner Dunlop (Toledo), Llc   \n",
       "312218            SOPREMA OBERROSSBACH                        SOPREMA S.A.S.   \n",
       "157890   Arlanxeo Singapore Pte., Ltd.                      Arlanxeo Usa Llc   \n",
       "\n",
       "         is_duplicate  \n",
       "pair_id                \n",
       "299025              1  \n",
       "377179              1  \n",
       "426526              1  \n",
       "312218              1  \n",
       "157890              1  "
      ]
     },
     "execution_count": 13,
     "metadata": {},
     "output_type": "execute_result"
    }
   ],
   "source": [
    "train[train.is_duplicate==1].sample(5)"
   ]
  },
  {
   "cell_type": "code",
   "execution_count": 14,
   "metadata": {},
   "outputs": [
    {
     "data": {
      "text/html": [
       "<div>\n",
       "<style scoped>\n",
       "    .dataframe tbody tr th:only-of-type {\n",
       "        vertical-align: middle;\n",
       "    }\n",
       "\n",
       "    .dataframe tbody tr th {\n",
       "        vertical-align: top;\n",
       "    }\n",
       "\n",
       "    .dataframe thead th {\n",
       "        text-align: right;\n",
       "    }\n",
       "</style>\n",
       "<table border=\"1\" class=\"dataframe\">\n",
       "  <thead>\n",
       "    <tr style=\"text-align: right;\">\n",
       "      <th></th>\n",
       "      <th>name_1</th>\n",
       "      <th>name_2</th>\n",
       "      <th>is_duplicate</th>\n",
       "    </tr>\n",
       "    <tr>\n",
       "      <th>pair_id</th>\n",
       "      <th></th>\n",
       "      <th></th>\n",
       "      <th></th>\n",
       "    </tr>\n",
       "  </thead>\n",
       "  <tbody>\n",
       "    <tr>\n",
       "      <th>316061</th>\n",
       "      <td>Ecopmin Technologies Private Ltd.</td>\n",
       "      <td>Acero Tecnologia Sa De Cv</td>\n",
       "      <td>0</td>\n",
       "    </tr>\n",
       "    <tr>\n",
       "      <th>316461</th>\n",
       "      <td>Symtake Chemical Co., Ltd.</td>\n",
       "      <td>Guy Chemical</td>\n",
       "      <td>0</td>\n",
       "    </tr>\n",
       "    <tr>\n",
       "      <th>359433</th>\n",
       "      <td>Eriks Industries Services Lp</td>\n",
       "      <td>Zhejiang Materials Industries Chemica</td>\n",
       "      <td>0</td>\n",
       "    </tr>\n",
       "    <tr>\n",
       "      <th>278515</th>\n",
       "      <td>BATEC GROUP GmbH</td>\n",
       "      <td>ISOLAGO S.A.</td>\n",
       "      <td>0</td>\n",
       "    </tr>\n",
       "    <tr>\n",
       "      <th>182528</th>\n",
       "      <td>Colamid Do Brasil Ltda</td>\n",
       "      <td>Ctl Logistics Do Brasil Ltda</td>\n",
       "      <td>0</td>\n",
       "    </tr>\n",
       "  </tbody>\n",
       "</table>\n",
       "</div>"
      ],
      "text/plain": [
       "                                    name_1  \\\n",
       "pair_id                                      \n",
       "316061   Ecopmin Technologies Private Ltd.   \n",
       "316461          Symtake Chemical Co., Ltd.   \n",
       "359433        Eriks Industries Services Lp   \n",
       "278515                    BATEC GROUP GmbH   \n",
       "182528              Colamid Do Brasil Ltda   \n",
       "\n",
       "                                        name_2  is_duplicate  \n",
       "pair_id                                                       \n",
       "316061               Acero Tecnologia Sa De Cv             0  \n",
       "316461                            Guy Chemical             0  \n",
       "359433   Zhejiang Materials Industries Chemica             0  \n",
       "278515                            ISOLAGO S.A.             0  \n",
       "182528            Ctl Logistics Do Brasil Ltda             0  "
      ]
     },
     "execution_count": 14,
     "metadata": {},
     "output_type": "execute_result"
    }
   ],
   "source": [
    "train[train.is_duplicate==0].sample(5)"
   ]
  },
  {
   "cell_type": "markdown",
   "metadata": {},
   "source": [
    "# Очистка данных"
   ]
  },
  {
   "cell_type": "code",
   "execution_count": 15,
   "metadata": {},
   "outputs": [],
   "source": [
    "from unidecode import unidecode"
   ]
  },
  {
   "cell_type": "code",
   "execution_count": 16,
   "metadata": {},
   "outputs": [],
   "source": [
    "# Переведем строки в юникод \n",
    "train[\"name_1\"] = train[\"name_1\"].apply(lambda x: unidecode(x))\n",
    "train[\"name_2\"] = train[\"name_2\"].apply(lambda x: unidecode(x))\n",
    "\n",
    "test[\"name_1\"] = test[\"name_1\"].apply(lambda x: unidecode(x))\n",
    "test[\"name_2\"] = test[\"name_2\"].apply(lambda x: unidecode(x))"
   ]
  },
  {
   "cell_type": "code",
   "execution_count": 17,
   "metadata": {},
   "outputs": [],
   "source": [
    "# Уберем заглавные символы\n",
    "train[\"name_1\"] = train[\"name_1\"].str.lower()\n",
    "train[\"name_2\"] = train[\"name_2\"].str.lower()\n",
    "\n",
    "test[\"name_1\"] = test[\"name_1\"].str.lower()\n",
    "test[\"name_2\"] = test[\"name_2\"].str.lower()"
   ]
  },
  {
   "cell_type": "code",
   "execution_count": 18,
   "metadata": {},
   "outputs": [],
   "source": [
    "# Удалим пробелы по краям \n",
    "train[\"name_1\"] = train[\"name_1\"].str.strip()\n",
    "train[\"name_2\"] = train[\"name_2\"].str.strip()\n",
    "\n",
    "test[\"name_1\"] = test[\"name_1\"].str.strip()\n",
    "test[\"name_2\"] = test[\"name_2\"].str.strip()"
   ]
  },
  {
   "cell_type": "code",
   "execution_count": 19,
   "metadata": {},
   "outputs": [],
   "source": [
    "# Заменим 2 или боее пробелов на 1\n",
    "train.replace(re.compile(r\"[ ]{2,}\"), \" \", inplace=True)\n",
    "test.replace(re.compile(r\"[ ]{2,}\"), \" \", inplace=True)"
   ]
  },
  {
   "cell_type": "code",
   "execution_count": 20,
   "metadata": {},
   "outputs": [],
   "source": [
    "# Удалим цифры, повторяющиеся 2 или более раз\n",
    "train.replace(re.compile(r\"[0-9]{2,}\"), \"\", inplace=True)\n",
    "test.replace(re.compile(r\"[0-9]{2,}\"), \"\", inplace=True)"
   ]
  },
  {
   "cell_type": "code",
   "execution_count": 21,
   "metadata": {},
   "outputs": [],
   "source": [
    "# Удалим любой символ, повторяющийся 3 или более раз\n",
    "train.replace(re.compile(r\"(.)\\1{2,}\"), \"\", inplace=True)\n",
    "test.replace(re.compile(r\"(.)\\1{2,}\"), \"\", inplace=True)"
   ]
  },
  {
   "cell_type": "code",
   "execution_count": 22,
   "metadata": {},
   "outputs": [],
   "source": [
    "# Удалим скобки\n",
    "train.replace(re.compile(r\"\\s+\\(.*\\)\"), \"\", inplace=True)\n",
    "test.replace(re.compile(r\"\\s+\\(.*\\)\"), \"\", inplace=True)"
   ]
  },
  {
   "cell_type": "code",
   "execution_count": 23,
   "metadata": {},
   "outputs": [],
   "source": [
    "# Удалим знаки препинания\n",
    "train.replace(re.compile(r\"[^\\w\\s]\"), \"\", inplace=True)\n",
    "test.replace(re.compile(r\"[^\\w\\s]\"), \"\", inplace=True)"
   ]
  },
  {
   "cell_type": "code",
   "execution_count": 24,
   "metadata": {},
   "outputs": [],
   "source": [
    "# Заменим 2 или боее пробелов на 1\n",
    "train.replace(re.compile(r\"[ ]{2,}\"), \" \", inplace=True)\n",
    "test.replace(re.compile(r\"[ ]{2,}\"), \" \", inplace=True)"
   ]
  },
  {
   "cell_type": "code",
   "execution_count": 25,
   "metadata": {},
   "outputs": [],
   "source": [
    "# Удалим пробелы по краям\n",
    "train[\"name_1\"] = train[\"name_1\"].str.strip()\n",
    "train[\"name_2\"] = train[\"name_2\"].str.strip()\n",
    "\n",
    "test[\"name_1\"] = test[\"name_1\"].str.strip()\n",
    "test[\"name_2\"] = test[\"name_2\"].str.strip()"
   ]
  },
  {
   "cell_type": "code",
   "execution_count": 26,
   "metadata": {},
   "outputs": [
    {
     "data": {
      "text/html": [
       "<div>\n",
       "<style scoped>\n",
       "    .dataframe tbody tr th:only-of-type {\n",
       "        vertical-align: middle;\n",
       "    }\n",
       "\n",
       "    .dataframe tbody tr th {\n",
       "        vertical-align: top;\n",
       "    }\n",
       "\n",
       "    .dataframe thead th {\n",
       "        text-align: right;\n",
       "    }\n",
       "</style>\n",
       "<table border=\"1\" class=\"dataframe\">\n",
       "  <thead>\n",
       "    <tr style=\"text-align: right;\">\n",
       "      <th></th>\n",
       "      <th>name_1</th>\n",
       "      <th>name_2</th>\n",
       "      <th>is_duplicate</th>\n",
       "    </tr>\n",
       "    <tr>\n",
       "      <th>pair_id</th>\n",
       "      <th></th>\n",
       "      <th></th>\n",
       "      <th></th>\n",
       "    </tr>\n",
       "  </thead>\n",
       "  <tbody>\n",
       "    <tr>\n",
       "      <th>144217</th>\n",
       "      <td>indage international llc</td>\n",
       "      <td>jebsen jessen ingredients vietnam</td>\n",
       "      <td>0</td>\n",
       "    </tr>\n",
       "    <tr>\n",
       "      <th>282672</th>\n",
       "      <td>dimerc peru sac</td>\n",
       "      <td>c v international inc</td>\n",
       "      <td>0</td>\n",
       "    </tr>\n",
       "    <tr>\n",
       "      <th>366202</th>\n",
       "      <td>nri inc</td>\n",
       "      <td>united color of canada apparel</td>\n",
       "      <td>0</td>\n",
       "    </tr>\n",
       "    <tr>\n",
       "      <th>322731</th>\n",
       "      <td>alma sa</td>\n",
       "      <td>bel manufacturera sa de cv</td>\n",
       "      <td>0</td>\n",
       "    </tr>\n",
       "    <tr>\n",
       "      <th>123109</th>\n",
       "      <td>lopan industries</td>\n",
       "      <td>sto corp</td>\n",
       "      <td>0</td>\n",
       "    </tr>\n",
       "  </tbody>\n",
       "</table>\n",
       "</div>"
      ],
      "text/plain": [
       "                           name_1                             name_2  \\\n",
       "pair_id                                                                \n",
       "144217   indage international llc  jebsen jessen ingredients vietnam   \n",
       "282672            dimerc peru sac              c v international inc   \n",
       "366202                    nri inc     united color of canada apparel   \n",
       "322731                    alma sa         bel manufacturera sa de cv   \n",
       "123109           lopan industries                           sto corp   \n",
       "\n",
       "         is_duplicate  \n",
       "pair_id                \n",
       "144217              0  \n",
       "282672              0  \n",
       "366202              0  \n",
       "322731              0  \n",
       "123109              0  "
      ]
     },
     "execution_count": 26,
     "metadata": {},
     "output_type": "execute_result"
    }
   ],
   "source": [
    "train.sample(5)"
   ]
  },
  {
   "cell_type": "code",
   "execution_count": 27,
   "metadata": {},
   "outputs": [
    {
     "data": {
      "text/html": [
       "<div>\n",
       "<style scoped>\n",
       "    .dataframe tbody tr th:only-of-type {\n",
       "        vertical-align: middle;\n",
       "    }\n",
       "\n",
       "    .dataframe tbody tr th {\n",
       "        vertical-align: top;\n",
       "    }\n",
       "\n",
       "    .dataframe thead th {\n",
       "        text-align: right;\n",
       "    }\n",
       "</style>\n",
       "<table border=\"1\" class=\"dataframe\">\n",
       "  <thead>\n",
       "    <tr style=\"text-align: right;\">\n",
       "      <th></th>\n",
       "      <th>name_1</th>\n",
       "      <th>name_2</th>\n",
       "    </tr>\n",
       "    <tr>\n",
       "      <th>pair_id</th>\n",
       "      <th></th>\n",
       "      <th></th>\n",
       "    </tr>\n",
       "  </thead>\n",
       "  <tbody>\n",
       "    <tr>\n",
       "      <th>159649</th>\n",
       "      <td>wa international</td>\n",
       "      <td>dover saddlery</td>\n",
       "    </tr>\n",
       "    <tr>\n",
       "      <th>23490</th>\n",
       "      <td>mitsubishi logistics</td>\n",
       "      <td>crossmotion logistics sa de cv</td>\n",
       "    </tr>\n",
       "    <tr>\n",
       "      <th>33432</th>\n",
       "      <td>lianguang household goodshuizhou co ltd</td>\n",
       "      <td>ds international</td>\n",
       "    </tr>\n",
       "    <tr>\n",
       "      <th>80945</th>\n",
       "      <td>bracker ag</td>\n",
       "      <td>bva inc</td>\n",
       "    </tr>\n",
       "    <tr>\n",
       "      <th>200870</th>\n",
       "      <td>spectrum industrial co ltd</td>\n",
       "      <td>city and industrial co ltd</td>\n",
       "    </tr>\n",
       "  </tbody>\n",
       "</table>\n",
       "</div>"
      ],
      "text/plain": [
       "                                          name_1  \\\n",
       "pair_id                                            \n",
       "159649                          wa international   \n",
       "23490                       mitsubishi logistics   \n",
       "33432    lianguang household goodshuizhou co ltd   \n",
       "80945                                 bracker ag   \n",
       "200870                spectrum industrial co ltd   \n",
       "\n",
       "                                 name_2  \n",
       "pair_id                                  \n",
       "159649                   dover saddlery  \n",
       "23490    crossmotion logistics sa de cv  \n",
       "33432                  ds international  \n",
       "80945                           bva inc  \n",
       "200870       city and industrial co ltd  "
      ]
     },
     "execution_count": 27,
     "metadata": {},
     "output_type": "execute_result"
    }
   ],
   "source": [
    "test.sample(5)"
   ]
  },
  {
   "cell_type": "code",
   "execution_count": 28,
   "metadata": {},
   "outputs": [
    {
     "data": {
      "text/html": [
       "<div>\n",
       "<style scoped>\n",
       "    .dataframe tbody tr th:only-of-type {\n",
       "        vertical-align: middle;\n",
       "    }\n",
       "\n",
       "    .dataframe tbody tr th {\n",
       "        vertical-align: top;\n",
       "    }\n",
       "\n",
       "    .dataframe thead th {\n",
       "        text-align: right;\n",
       "    }\n",
       "</style>\n",
       "<table border=\"1\" class=\"dataframe\">\n",
       "  <thead>\n",
       "    <tr style=\"text-align: right;\">\n",
       "      <th></th>\n",
       "      <th>name_1</th>\n",
       "      <th>name_2</th>\n",
       "      <th>is_duplicate</th>\n",
       "    </tr>\n",
       "    <tr>\n",
       "      <th>pair_id</th>\n",
       "      <th></th>\n",
       "      <th></th>\n",
       "      <th></th>\n",
       "    </tr>\n",
       "  </thead>\n",
       "  <tbody>\n",
       "    <tr>\n",
       "      <th>8</th>\n",
       "      <td>citibank korea inc</td>\n",
       "      <td>kyor</td>\n",
       "      <td>0</td>\n",
       "    </tr>\n",
       "    <tr>\n",
       "      <th>13</th>\n",
       "      <td>bestocean worldwide logistics inc</td>\n",
       "      <td>mandate logistics pte ltd</td>\n",
       "      <td>0</td>\n",
       "    </tr>\n",
       "    <tr>\n",
       "      <th>14</th>\n",
       "      <td>uni trans illinois consolidated inc</td>\n",
       "      <td>suntrans international inc</td>\n",
       "      <td>0</td>\n",
       "    </tr>\n",
       "    <tr>\n",
       "      <th>19</th>\n",
       "      <td>air sea transport inc</td>\n",
       "      <td>aspire</td>\n",
       "      <td>0</td>\n",
       "    </tr>\n",
       "    <tr>\n",
       "      <th>23</th>\n",
       "      <td>battery technology inc</td>\n",
       "      <td>shenzhen city step mai technology co ltd</td>\n",
       "      <td>0</td>\n",
       "    </tr>\n",
       "    <tr>\n",
       "      <th>...</th>\n",
       "      <td>...</td>\n",
       "      <td>...</td>\n",
       "      <td>...</td>\n",
       "    </tr>\n",
       "    <tr>\n",
       "      <th>497769</th>\n",
       "      <td>mn container lines inc</td>\n",
       "      <td>anconn co ltd</td>\n",
       "      <td>0</td>\n",
       "    </tr>\n",
       "    <tr>\n",
       "      <th>497774</th>\n",
       "      <td>cambrian solutions inc</td>\n",
       "      <td>colonial chemical solutions inc</td>\n",
       "      <td>0</td>\n",
       "    </tr>\n",
       "    <tr>\n",
       "      <th>497783</th>\n",
       "      <td>afi international inc</td>\n",
       "      <td>guangzhou ngai hing hong plastic ma</td>\n",
       "      <td>0</td>\n",
       "    </tr>\n",
       "    <tr>\n",
       "      <th>497797</th>\n",
       "      <td>oec freight inc</td>\n",
       "      <td>sr international</td>\n",
       "      <td>0</td>\n",
       "    </tr>\n",
       "    <tr>\n",
       "      <th>497808</th>\n",
       "      <td>exel logistics inc</td>\n",
       "      <td>jh logistics inc</td>\n",
       "      <td>0</td>\n",
       "    </tr>\n",
       "  </tbody>\n",
       "</table>\n",
       "<p>50911 rows × 3 columns</p>\n",
       "</div>"
      ],
      "text/plain": [
       "                                      name_1  \\\n",
       "pair_id                                        \n",
       "8                         citibank korea inc   \n",
       "13         bestocean worldwide logistics inc   \n",
       "14       uni trans illinois consolidated inc   \n",
       "19                     air sea transport inc   \n",
       "23                    battery technology inc   \n",
       "...                                      ...   \n",
       "497769                mn container lines inc   \n",
       "497774                cambrian solutions inc   \n",
       "497783                 afi international inc   \n",
       "497797                       oec freight inc   \n",
       "497808                    exel logistics inc   \n",
       "\n",
       "                                           name_2  is_duplicate  \n",
       "pair_id                                                          \n",
       "8                                            kyor             0  \n",
       "13                      mandate logistics pte ltd             0  \n",
       "14                     suntrans international inc             0  \n",
       "19                                         aspire             0  \n",
       "23       shenzhen city step mai technology co ltd             0  \n",
       "...                                           ...           ...  \n",
       "497769                              anconn co ltd             0  \n",
       "497774            colonial chemical solutions inc             0  \n",
       "497783        guangzhou ngai hing hong plastic ma             0  \n",
       "497797                           sr international             0  \n",
       "497808                           jh logistics inc             0  \n",
       "\n",
       "[50911 rows x 3 columns]"
      ]
     },
     "execution_count": 28,
     "metadata": {},
     "output_type": "execute_result"
    }
   ],
   "source": [
    "train[train.name_1.str.contains('inc')]"
   ]
  },
  {
   "cell_type": "code",
   "execution_count": 29,
   "metadata": {},
   "outputs": [],
   "source": [
    "legal_entities = ['ltd', 'co', 'inc', 'pvt', 'plc', 'llc', 'scrl', 'srl', 'ltda', 'cv', 'cic', 'cio', 'lp',      # UK/US                   \n",
    "                  'bv', 'gmbh', 'ag', 'sas', 'sa', 'eu', 'sp', 'ss', 'snc', 'og', 'kg', 'scs', 'sac', 'sca',      # European               \n",
    "                  'ooo', 'oo', 'zao', 'ao', 'pao', 'nko', 'gup', 'too', 'tdo', 'gp', 'pt', 'pk', 'ip', 'imp',        # Russian \n",
    "                  'sdn', 'bhd', 'plt', 'llp', 'ent', 'coop', 'corp', 'coorp', 'ilp', 'nl', 'rl', 'exp', 'spa',            # Asian\n",
    "                  'ram', 'dsa', 'insa', 'std', 'gmb', 'bva']                                                     # Others \n",
    "                "
   ]
  },
  {
   "cell_type": "code",
   "execution_count": 30,
   "metadata": {},
   "outputs": [
    {
     "name": "stderr",
     "output_type": "stream",
     "text": [
      "100%|██████████████████████████████████████████| 60/60 [03:46<00:00,  3.77s/it]\n"
     ]
    }
   ],
   "source": [
    "# Удалим legal entities \n",
    "for entity in tqdm(legal_entities):\n",
    "    train.replace(re.compile(r'\\b{}\\b'.format(entity)), \"\", inplace=True)\n",
    "    test.replace(re.compile(r'\\b{}\\b'.format(entity)), \"\", inplace=True)"
   ]
  },
  {
   "cell_type": "code",
   "execution_count": 31,
   "metadata": {},
   "outputs": [
    {
     "data": {
      "text/plain": [
       "60"
      ]
     },
     "execution_count": 31,
     "metadata": {},
     "output_type": "execute_result"
    }
   ],
   "source": [
    "len(legal_entities)"
   ]
  },
  {
   "cell_type": "code",
   "execution_count": 32,
   "metadata": {},
   "outputs": [
    {
     "data": {
      "text/plain": [
       "60"
      ]
     },
     "execution_count": 32,
     "metadata": {},
     "output_type": "execute_result"
    }
   ],
   "source": [
    "len(unique(legal_entities))"
   ]
  },
  {
   "cell_type": "code",
   "execution_count": 33,
   "metadata": {},
   "outputs": [
    {
     "data": {
      "text/html": [
       "<div>\n",
       "<style scoped>\n",
       "    .dataframe tbody tr th:only-of-type {\n",
       "        vertical-align: middle;\n",
       "    }\n",
       "\n",
       "    .dataframe tbody tr th {\n",
       "        vertical-align: top;\n",
       "    }\n",
       "\n",
       "    .dataframe thead th {\n",
       "        text-align: right;\n",
       "    }\n",
       "</style>\n",
       "<table border=\"1\" class=\"dataframe\">\n",
       "  <thead>\n",
       "    <tr style=\"text-align: right;\">\n",
       "      <th></th>\n",
       "      <th>name_1</th>\n",
       "      <th>name_2</th>\n",
       "      <th>is_duplicate</th>\n",
       "    </tr>\n",
       "    <tr>\n",
       "      <th>pair_id</th>\n",
       "      <th></th>\n",
       "      <th></th>\n",
       "      <th></th>\n",
       "    </tr>\n",
       "  </thead>\n",
       "  <tbody>\n",
       "    <tr>\n",
       "      <th>1</th>\n",
       "      <td>iko industries</td>\n",
       "      <td>enormous industrial trade</td>\n",
       "      <td>0</td>\n",
       "    </tr>\n",
       "    <tr>\n",
       "      <th>2</th>\n",
       "      <td>apcotex industries</td>\n",
       "      <td>technocraft industries</td>\n",
       "      <td>0</td>\n",
       "    </tr>\n",
       "    <tr>\n",
       "      <th>3</th>\n",
       "      <td>rishichem distributors</td>\n",
       "      <td></td>\n",
       "      <td>0</td>\n",
       "    </tr>\n",
       "    <tr>\n",
       "      <th>4</th>\n",
       "      <td>powermax rubber factory</td>\n",
       "      <td>one</td>\n",
       "      <td>0</td>\n",
       "    </tr>\n",
       "    <tr>\n",
       "      <th>5</th>\n",
       "      <td>tress as</td>\n",
       "      <td>longyou industries park zhejiang</td>\n",
       "      <td>0</td>\n",
       "    </tr>\n",
       "  </tbody>\n",
       "</table>\n",
       "</div>"
      ],
      "text/plain": [
       "                           name_1                            name_2  \\\n",
       "pair_id                                                               \n",
       "1                 iko industries        enormous industrial trade     \n",
       "2             apcotex industries            technocraft industries    \n",
       "3        rishichem distributors                                       \n",
       "4         powermax rubber factory                               one   \n",
       "5                        tress as  longyou industries park zhejiang   \n",
       "\n",
       "         is_duplicate  \n",
       "pair_id                \n",
       "1                   0  \n",
       "2                   0  \n",
       "3                   0  \n",
       "4                   0  \n",
       "5                   0  "
      ]
     },
     "execution_count": 33,
     "metadata": {},
     "output_type": "execute_result"
    }
   ],
   "source": [
    "train.head()"
   ]
  },
  {
   "cell_type": "code",
   "execution_count": 34,
   "metadata": {},
   "outputs": [
    {
     "data": {
      "text/html": [
       "<div>\n",
       "<style scoped>\n",
       "    .dataframe tbody tr th:only-of-type {\n",
       "        vertical-align: middle;\n",
       "    }\n",
       "\n",
       "    .dataframe tbody tr th {\n",
       "        vertical-align: top;\n",
       "    }\n",
       "\n",
       "    .dataframe thead th {\n",
       "        text-align: right;\n",
       "    }\n",
       "</style>\n",
       "<table border=\"1\" class=\"dataframe\">\n",
       "  <thead>\n",
       "    <tr style=\"text-align: right;\">\n",
       "      <th></th>\n",
       "      <th>name_1</th>\n",
       "      <th>name_2</th>\n",
       "    </tr>\n",
       "    <tr>\n",
       "      <th>pair_id</th>\n",
       "      <th></th>\n",
       "      <th></th>\n",
       "    </tr>\n",
       "  </thead>\n",
       "  <tbody>\n",
       "    <tr>\n",
       "      <th>1</th>\n",
       "      <td>sun blinds decoration</td>\n",
       "      <td>indl de cuautitlan</td>\n",
       "    </tr>\n",
       "    <tr>\n",
       "      <th>2</th>\n",
       "      <td>eih</td>\n",
       "      <td>dongguan wei shi plastic product</td>\n",
       "    </tr>\n",
       "    <tr>\n",
       "      <th>3</th>\n",
       "      <td>jsh</td>\n",
       "      <td>arab shipbuilding and repair yard c</td>\n",
       "    </tr>\n",
       "    <tr>\n",
       "      <th>4</th>\n",
       "      <td>better industrial</td>\n",
       "      <td>farmacap industria e comercio</td>\n",
       "    </tr>\n",
       "    <tr>\n",
       "      <th>5</th>\n",
       "      <td>equipos inoxidables del norte  de</td>\n",
       "      <td>bel</td>\n",
       "    </tr>\n",
       "  </tbody>\n",
       "</table>\n",
       "</div>"
      ],
      "text/plain": [
       "                                     name_1  \\\n",
       "pair_id                                       \n",
       "1                    sun blinds decoration    \n",
       "2                                      eih    \n",
       "3                                      jsh    \n",
       "4                        better industrial    \n",
       "5        equipos inoxidables del norte  de    \n",
       "\n",
       "                                      name_2  \n",
       "pair_id                                       \n",
       "1                       indl de cuautitlan    \n",
       "2         dongguan wei shi plastic product    \n",
       "3        arab shipbuilding and repair yard c  \n",
       "4             farmacap industria e comercio   \n",
       "5                                       bel   "
      ]
     },
     "execution_count": 34,
     "metadata": {},
     "output_type": "execute_result"
    }
   ],
   "source": [
    "test.head()"
   ]
  },
  {
   "cell_type": "markdown",
   "metadata": {},
   "source": [
    "# Предобработка по часто встречающимся в названии словам"
   ]
  },
  {
   "cell_type": "code",
   "execution_count": 35,
   "metadata": {},
   "outputs": [],
   "source": [
    "# pip install pycountry"
   ]
  },
  {
   "cell_type": "code",
   "execution_count": 36,
   "metadata": {},
   "outputs": [],
   "source": [
    "import pycountry\n",
    "import re"
   ]
  },
  {
   "cell_type": "code",
   "execution_count": 37,
   "metadata": {},
   "outputs": [],
   "source": [
    "countries = [country.name.lower() for country in pycountry.countries]"
   ]
  },
  {
   "cell_type": "code",
   "execution_count": 38,
   "metadata": {},
   "outputs": [
    {
     "name": "stderr",
     "output_type": "stream",
     "text": [
      "100%|████████████████████████████████████████| 249/249 [11:31<00:00,  2.78s/it]\n"
     ]
    }
   ],
   "source": [
    "# Удалим названия стран\n",
    "for country in tqdm(countries):\n",
    "    train.replace(re.compile(country), \"\", inplace=True)\n",
    "    test.replace(re.compile(country), \"\", inplace=True)"
   ]
  },
  {
   "cell_type": "code",
   "execution_count": 39,
   "metadata": {},
   "outputs": [],
   "source": [
    "# Загрузим датасет с названиями городов и их населением"
   ]
  },
  {
   "cell_type": "code",
   "execution_count": 40,
   "metadata": {},
   "outputs": [],
   "source": [
    "cities_new = pd.read_csv('worldcities.csv')"
   ]
  },
  {
   "cell_type": "code",
   "execution_count": 41,
   "metadata": {},
   "outputs": [
    {
     "name": "stdout",
     "output_type": "stream",
     "text": [
      "<class 'pandas.core.frame.DataFrame'>\n",
      "RangeIndex: 12959 entries, 0 to 12958\n",
      "Data columns (total 11 columns):\n",
      " #   Column      Non-Null Count  Dtype  \n",
      "---  ------      --------------  -----  \n",
      " 0   city        12959 non-null  object \n",
      " 1   city_ascii  12959 non-null  object \n",
      " 2   lat         12959 non-null  float64\n",
      " 3   lng         12959 non-null  float64\n",
      " 4   country     12959 non-null  object \n",
      " 5   iso2        12928 non-null  object \n",
      " 6   iso3        12959 non-null  object \n",
      " 7   admin_name  12750 non-null  object \n",
      " 8   capital     5180 non-null   object \n",
      " 9   population  11292 non-null  float64\n",
      " 10  id          12959 non-null  int64  \n",
      "dtypes: float64(3), int64(1), object(7)\n",
      "memory usage: 1.1+ MB\n"
     ]
    }
   ],
   "source": [
    "cities_new.info()"
   ]
  },
  {
   "cell_type": "code",
   "execution_count": 42,
   "metadata": {},
   "outputs": [
    {
     "data": {
      "text/html": [
       "<div>\n",
       "<style scoped>\n",
       "    .dataframe tbody tr th:only-of-type {\n",
       "        vertical-align: middle;\n",
       "    }\n",
       "\n",
       "    .dataframe tbody tr th {\n",
       "        vertical-align: top;\n",
       "    }\n",
       "\n",
       "    .dataframe thead th {\n",
       "        text-align: right;\n",
       "    }\n",
       "</style>\n",
       "<table border=\"1\" class=\"dataframe\">\n",
       "  <thead>\n",
       "    <tr style=\"text-align: right;\">\n",
       "      <th></th>\n",
       "      <th>city</th>\n",
       "      <th>city_ascii</th>\n",
       "      <th>lat</th>\n",
       "      <th>lng</th>\n",
       "      <th>country</th>\n",
       "      <th>iso2</th>\n",
       "      <th>iso3</th>\n",
       "      <th>admin_name</th>\n",
       "      <th>capital</th>\n",
       "      <th>population</th>\n",
       "      <th>id</th>\n",
       "    </tr>\n",
       "  </thead>\n",
       "  <tbody>\n",
       "    <tr>\n",
       "      <th>12867</th>\n",
       "      <td>Happy Valley</td>\n",
       "      <td>Happy Valley</td>\n",
       "      <td>45.4383</td>\n",
       "      <td>-122.5142</td>\n",
       "      <td>United States</td>\n",
       "      <td>US</td>\n",
       "      <td>USA</td>\n",
       "      <td>Oregon</td>\n",
       "      <td>NaN</td>\n",
       "      <td>21196.0</td>\n",
       "      <td>1840019950</td>\n",
       "    </tr>\n",
       "    <tr>\n",
       "      <th>12829</th>\n",
       "      <td>Mayfield</td>\n",
       "      <td>Mayfield</td>\n",
       "      <td>36.7361</td>\n",
       "      <td>-88.6448</td>\n",
       "      <td>United States</td>\n",
       "      <td>US</td>\n",
       "      <td>USA</td>\n",
       "      <td>Kentucky</td>\n",
       "      <td>NaN</td>\n",
       "      <td>11155.0</td>\n",
       "      <td>1840015268</td>\n",
       "    </tr>\n",
       "    <tr>\n",
       "      <th>4349</th>\n",
       "      <td>Ceduna</td>\n",
       "      <td>Ceduna</td>\n",
       "      <td>-32.0991</td>\n",
       "      <td>133.6623</td>\n",
       "      <td>Australia</td>\n",
       "      <td>AU</td>\n",
       "      <td>AUS</td>\n",
       "      <td>South Australia</td>\n",
       "      <td>NaN</td>\n",
       "      <td>1586.0</td>\n",
       "      <td>1036725988</td>\n",
       "    </tr>\n",
       "    <tr>\n",
       "      <th>12933</th>\n",
       "      <td>Talent</td>\n",
       "      <td>Talent</td>\n",
       "      <td>42.2404</td>\n",
       "      <td>-122.7807</td>\n",
       "      <td>United States</td>\n",
       "      <td>US</td>\n",
       "      <td>USA</td>\n",
       "      <td>Oregon</td>\n",
       "      <td>NaN</td>\n",
       "      <td>6492.0</td>\n",
       "      <td>1840021300</td>\n",
       "    </tr>\n",
       "    <tr>\n",
       "      <th>11421</th>\n",
       "      <td>Waverly</td>\n",
       "      <td>Waverly</td>\n",
       "      <td>42.7249</td>\n",
       "      <td>-92.4707</td>\n",
       "      <td>United States</td>\n",
       "      <td>US</td>\n",
       "      <td>USA</td>\n",
       "      <td>Iowa</td>\n",
       "      <td>NaN</td>\n",
       "      <td>8841.0</td>\n",
       "      <td>1840000404</td>\n",
       "    </tr>\n",
       "    <tr>\n",
       "      <th>4061</th>\n",
       "      <td>Saurimo</td>\n",
       "      <td>Saurimo</td>\n",
       "      <td>-9.6596</td>\n",
       "      <td>20.3900</td>\n",
       "      <td>Angola</td>\n",
       "      <td>AO</td>\n",
       "      <td>AGO</td>\n",
       "      <td>Lunda Sul</td>\n",
       "      <td>admin</td>\n",
       "      <td>41316.0</td>\n",
       "      <td>1024326839</td>\n",
       "    </tr>\n",
       "    <tr>\n",
       "      <th>6068</th>\n",
       "      <td>Xuchang</td>\n",
       "      <td>Xuchang</td>\n",
       "      <td>34.0204</td>\n",
       "      <td>113.8200</td>\n",
       "      <td>China</td>\n",
       "      <td>CN</td>\n",
       "      <td>CHN</td>\n",
       "      <td>Henan</td>\n",
       "      <td>minor</td>\n",
       "      <td>449258.0</td>\n",
       "      <td>1156235735</td>\n",
       "    </tr>\n",
       "    <tr>\n",
       "      <th>4177</th>\n",
       "      <td>Chepes</td>\n",
       "      <td>Chepes</td>\n",
       "      <td>-31.3500</td>\n",
       "      <td>-66.6000</td>\n",
       "      <td>Argentina</td>\n",
       "      <td>AR</td>\n",
       "      <td>ARG</td>\n",
       "      <td>La Rioja</td>\n",
       "      <td>minor</td>\n",
       "      <td>6020.0</td>\n",
       "      <td>1032137147</td>\n",
       "    </tr>\n",
       "    <tr>\n",
       "      <th>10536</th>\n",
       "      <td>Lone Tree</td>\n",
       "      <td>Lone Tree</td>\n",
       "      <td>39.5308</td>\n",
       "      <td>-104.8710</td>\n",
       "      <td>United States</td>\n",
       "      <td>US</td>\n",
       "      <td>USA</td>\n",
       "      <td>Colorado</td>\n",
       "      <td>NaN</td>\n",
       "      <td>13566.0</td>\n",
       "      <td>1840020222</td>\n",
       "    </tr>\n",
       "    <tr>\n",
       "      <th>10211</th>\n",
       "      <td>Orange</td>\n",
       "      <td>Orange</td>\n",
       "      <td>33.8038</td>\n",
       "      <td>-117.8219</td>\n",
       "      <td>United States</td>\n",
       "      <td>US</td>\n",
       "      <td>USA</td>\n",
       "      <td>California</td>\n",
       "      <td>NaN</td>\n",
       "      <td>140560.0</td>\n",
       "      <td>1840020582</td>\n",
       "    </tr>\n",
       "  </tbody>\n",
       "</table>\n",
       "</div>"
      ],
      "text/plain": [
       "               city    city_ascii      lat       lng        country iso2 iso3  \\\n",
       "12867  Happy Valley  Happy Valley  45.4383 -122.5142  United States   US  USA   \n",
       "12829      Mayfield      Mayfield  36.7361  -88.6448  United States   US  USA   \n",
       "4349         Ceduna        Ceduna -32.0991  133.6623      Australia   AU  AUS   \n",
       "12933        Talent        Talent  42.2404 -122.7807  United States   US  USA   \n",
       "11421       Waverly       Waverly  42.7249  -92.4707  United States   US  USA   \n",
       "4061        Saurimo       Saurimo  -9.6596   20.3900         Angola   AO  AGO   \n",
       "6068        Xuchang       Xuchang  34.0204  113.8200          China   CN  CHN   \n",
       "4177         Chepes        Chepes -31.3500  -66.6000      Argentina   AR  ARG   \n",
       "10536     Lone Tree     Lone Tree  39.5308 -104.8710  United States   US  USA   \n",
       "10211        Orange        Orange  33.8038 -117.8219  United States   US  USA   \n",
       "\n",
       "            admin_name capital  population          id  \n",
       "12867           Oregon     NaN     21196.0  1840019950  \n",
       "12829         Kentucky     NaN     11155.0  1840015268  \n",
       "4349   South Australia     NaN      1586.0  1036725988  \n",
       "12933           Oregon     NaN      6492.0  1840021300  \n",
       "11421             Iowa     NaN      8841.0  1840000404  \n",
       "4061         Lunda Sul   admin     41316.0  1024326839  \n",
       "6068             Henan   minor    449258.0  1156235735  \n",
       "4177          La Rioja   minor      6020.0  1032137147  \n",
       "10536         Colorado     NaN     13566.0  1840020222  \n",
       "10211       California     NaN    140560.0  1840020582  "
      ]
     },
     "execution_count": 42,
     "metadata": {},
     "output_type": "execute_result"
    }
   ],
   "source": [
    "cities_new.sample(10)"
   ]
  },
  {
   "cell_type": "code",
   "execution_count": 43,
   "metadata": {},
   "outputs": [],
   "source": [
    "cities_new.fillna(0, inplace=True)"
   ]
  },
  {
   "cell_type": "code",
   "execution_count": 44,
   "metadata": {},
   "outputs": [],
   "source": [
    "countries_lst = cities_new.country.unique()"
   ]
  },
  {
   "cell_type": "code",
   "execution_count": 45,
   "metadata": {},
   "outputs": [
    {
     "name": "stderr",
     "output_type": "stream",
     "text": [
      "100%|███████████████████████████████████████| 235/235 [00:00<00:00, 361.52it/s]\n"
     ]
    }
   ],
   "source": [
    "# Из каждой страны возьмем города, в которых численность населения превышает 1 миллион\n",
    "cities_lst = []\n",
    "for cntr in tqdm(countries_lst):\n",
    "    cities_lst += cities_new[(cities_new.country==cntr) & (cities_new.population >= 1000000)].city.to_list()"
   ]
  },
  {
   "cell_type": "code",
   "execution_count": 46,
   "metadata": {},
   "outputs": [],
   "source": [
    "# Выбросим повторяющиеся названия городов\n",
    "cities_lst = unique(cities_lst)"
   ]
  },
  {
   "cell_type": "code",
   "execution_count": 47,
   "metadata": {},
   "outputs": [
    {
     "name": "stderr",
     "output_type": "stream",
     "text": [
      "100%|████████████████████████████████████| 499/499 [00:00<00:00, 498917.21it/s]\n"
     ]
    }
   ],
   "source": [
    "# Переведем все названия городов в юникод\n",
    "cities_lst = [unidecode(city) for city in tqdm(cities_lst)]"
   ]
  },
  {
   "cell_type": "code",
   "execution_count": 48,
   "metadata": {},
   "outputs": [
    {
     "name": "stderr",
     "output_type": "stream",
     "text": [
      "100%|████████████████████████████████████| 499/499 [00:00<00:00, 498917.21it/s]\n"
     ]
    }
   ],
   "source": [
    "cities_lst = [city.lower() for city in tqdm(cities_lst)] "
   ]
  },
  {
   "cell_type": "code",
   "execution_count": 49,
   "metadata": {},
   "outputs": [
    {
     "name": "stderr",
     "output_type": "stream",
     "text": [
      "100%|████████████████████████████████████| 499/499 [00:00<00:00, 498917.21it/s]\n"
     ]
    }
   ],
   "source": [
    "# Удалим знаки препинания в названиях городов\n",
    "cities_lst = [re.sub(r\"[^\\w\\s]\", \"\", city) for city in tqdm(cities_lst)]"
   ]
  },
  {
   "cell_type": "code",
   "execution_count": 50,
   "metadata": {},
   "outputs": [
    {
     "name": "stderr",
     "output_type": "stream",
     "text": [
      "100%|████████████████████████████████████| 499/499 [00:00<00:00, 499036.17it/s]\n"
     ]
    }
   ],
   "source": [
    "# Удалим скобки в названиях городов\n",
    "cities_lst = [re.sub(r\"\\s+\\(.*\\)\", \"\", city) for city in tqdm(cities_lst)]"
   ]
  },
  {
   "cell_type": "code",
   "execution_count": 51,
   "metadata": {},
   "outputs": [
    {
     "name": "stderr",
     "output_type": "stream",
     "text": [
      "100%|████████████████████████████████████| 499/499 [00:00<00:00, 249488.34it/s]\n"
     ]
    }
   ],
   "source": [
    "# Удалим лишние пробелы в названиях городов\n",
    "cities_lst = [re.sub(r\"[ ]{2,}\", \"\", city) for city in tqdm(cities_lst)]"
   ]
  },
  {
   "cell_type": "code",
   "execution_count": 52,
   "metadata": {},
   "outputs": [
    {
     "name": "stderr",
     "output_type": "stream",
     "text": [
      "100%|████████████████████████████████████| 499/499 [00:00<00:00, 499036.17it/s]\n"
     ]
    }
   ],
   "source": [
    "# Удалим пробелы по краям\n",
    "cities_lst = [city.strip() for city in tqdm(cities_lst)]"
   ]
  },
  {
   "cell_type": "code",
   "execution_count": 53,
   "metadata": {},
   "outputs": [
    {
     "name": "stderr",
     "output_type": "stream",
     "text": [
      "100%|████████████████████████████████████████| 499/499 [23:13<00:00,  2.79s/it]\n"
     ]
    }
   ],
   "source": [
    "# Удалим названия городов\n",
    "for city in tqdm(cities_lst):\n",
    "    train.replace(re.compile(city), \"\", inplace=True)\n",
    "    test.replace(re.compile(city), \"\", inplace=True)"
   ]
  },
  {
   "cell_type": "code",
   "execution_count": null,
   "metadata": {},
   "outputs": [],
   "source": []
  },
  {
   "cell_type": "code",
   "execution_count": 54,
   "metadata": {},
   "outputs": [],
   "source": [
    "general = ['internat', 'industr', 'privat', 'product', 'enterpris', 'group', 'royal', 'organi',\n",
    "          'techn', 'servic', 'solution', 'general', 'equipment', 'system', 'total', 'informat', \n",
    "          'qualit', 'precision', 'supply', 'unit', 'limit', 'anonim', 'express', 'spec', 'ultra',\n",
    "          'develop', 'distr', 'national', 'corpor', 'commerc', 'natural', 'resourc', 'multi', 'sanayi',\n",
    "          'instrum', 'profes', 'demon', 'popul', 'brand', 'compan', 'trans', 'incorm', 'produt',\n",
    "          'accurat', 'inter', 'educat', 'retail', 'soprem', 'compoun', 'furnit', 'futur', 'innova',\n",
    "          'impuls', 'cosm', 'republ', 'factor', 'green', 'blue', 'black', 'perfor', 'master', 'import',\n",
    "          'feder','govern', 'imper', 'membran', 'econom', 'saint', 'branch', 'represent', 'forward',\n",
    "          'export', 'elast', 'order', 'sumit', 'jiang', 'comerc']\n",
    "\n",
    "industries = ['trad', 'logist', 'rubber', 'chemic', 'plast', 'sport', 'energ', 'paint', 'polymer', \n",
    "            'material', 'bank', 'textile', 'power', 'engineer', 'automotiv', 'shoe', 'ticaret', 'market', \n",
    "            'cargo', 'freight', 'transport', 'synthetic', 'tyre', 'tire', 'asphalt', 'ship', 'hardwar',\n",
    "            'construct', 'marin', 'electr', 'spinn', 'steel', 'metal', 'oil', 'gas', 'minin', 'therm',\n",
    "            'util', 'polic', 'account', 'advert', 'aerospace', 'publ', 'business', 'airline', 'alcohol',\n",
    "            'architect', 'broadcast', 'build', 'cable', 'manufactur', 'civil', 'communica', 'proces',\n",
    "            'health', 'financ', 'contract', 'control', 'fund', 'insur', 'stock', 'union', 'invest', \n",
    "            'cloth', 'road', 'paper', 'mills', 'collect', 'capital', 'print', 'polimer', 'broker',\n",
    "            'rail', 'insitut', 'petrol', 'quimic', 'maint', 'contain', 'craft', 'mineral', 'optic',\n",
    "             'agricult', 'pharmac', 'metal', 'machin', 'watch', 'food', 'tourism', 'leisure', 'leath',\n",
    "             'medic', 'trarfic', 'audio', 'video', 'chain', 'packag', 'fashion', 'manag', 'fiber',\n",
    "             'bitumen', 'guang', 'zhong', 'zhej', 'adhesiv', 'shandong']\n",
    "\n",
    "geographic = ['world', 'americ', 'brasil', 'russia', 'afric', 'asia', 'europ', 'north', 'west', 'south', \n",
    "             'east', 'pacific', 'atlantic', 'continent', 'global', 'city', 'center', 'centr', 'overseas',\n",
    "             'univers', 'polsk', 'deutschland', 'arab', 'orient', 'usa', 'environ', 'wave', 'brit', 'wales',\n",
    "             'rural', 'countr', 'provinc', 'explor', 'sociedad', 'ocean', 'mexic', 'nord']\n",
    "\n",
    "most_common = general + industries + geographic"
   ]
  },
  {
   "cell_type": "code",
   "execution_count": 55,
   "metadata": {},
   "outputs": [
    {
     "data": {
      "text/plain": [
       "219"
      ]
     },
     "execution_count": 55,
     "metadata": {},
     "output_type": "execute_result"
    }
   ],
   "source": [
    "len(most_common)"
   ]
  },
  {
   "cell_type": "code",
   "execution_count": 56,
   "metadata": {},
   "outputs": [
    {
     "data": {
      "text/plain": [
       "218"
      ]
     },
     "execution_count": 56,
     "metadata": {},
     "output_type": "execute_result"
    }
   ],
   "source": [
    "len(unique(most_common))"
   ]
  },
  {
   "cell_type": "code",
   "execution_count": 57,
   "metadata": {},
   "outputs": [
    {
     "data": {
      "text/plain": [
       "True"
      ]
     },
     "execution_count": 57,
     "metadata": {},
     "output_type": "execute_result"
    }
   ],
   "source": [
    "'export' in most_common"
   ]
  },
  {
   "cell_type": "code",
   "execution_count": 58,
   "metadata": {},
   "outputs": [
    {
     "name": "stderr",
     "output_type": "stream",
     "text": [
      "100%|████████████████████████████████████████| 219/219 [11:57<00:00,  3.28s/it]\n"
     ]
    }
   ],
   "source": [
    "# Удалим незначимые слова \n",
    "for el in tqdm(most_common):\n",
    "    train.replace(re.compile(r'\\b{}\\w*\\b'.format(el)), \"\", inplace=True)\n",
    "    test.replace(re.compile(r'\\b{}\\w*\\b'.format(el)), \"\", inplace=True)"
   ]
  },
  {
   "cell_type": "code",
   "execution_count": 59,
   "metadata": {},
   "outputs": [],
   "source": [
    "# Загрузим датасет с аббревиатурами вех стран"
   ]
  },
  {
   "cell_type": "code",
   "execution_count": 60,
   "metadata": {},
   "outputs": [],
   "source": [
    "cities = pd.read_csv('worldcitiespop.csv', low_memory=False)"
   ]
  },
  {
   "cell_type": "code",
   "execution_count": 61,
   "metadata": {},
   "outputs": [],
   "source": [
    "cities.drop('Population', axis=1, inplace=True)"
   ]
  },
  {
   "cell_type": "code",
   "execution_count": 62,
   "metadata": {},
   "outputs": [],
   "source": [
    "cities.dropna(inplace=True)"
   ]
  },
  {
   "cell_type": "code",
   "execution_count": 63,
   "metadata": {},
   "outputs": [
    {
     "name": "stderr",
     "output_type": "stream",
     "text": [
      "100%|████████████████████████████| 3173944/3173944 [00:07<00:00, 444691.39it/s]\n"
     ]
    }
   ],
   "source": [
    "abrev_lst = cities.Country.progress_apply(lambda x: unidecode(x))"
   ]
  },
  {
   "cell_type": "code",
   "execution_count": 64,
   "metadata": {},
   "outputs": [],
   "source": [
    "abrev_lst = unique(abrev_lst)"
   ]
  },
  {
   "cell_type": "code",
   "execution_count": 65,
   "metadata": {},
   "outputs": [
    {
     "name": "stderr",
     "output_type": "stream",
     "text": [
      "100%|████████████████████████████████████████| 234/234 [13:25<00:00,  3.44s/it]\n"
     ]
    }
   ],
   "source": [
    "# Удалим аббревиатуры стран\n",
    "for abrev in tqdm(abrev_lst):\n",
    "    train.replace(re.compile(r'\\b{}\\b'.format(abrev)), \"\", inplace=True)\n",
    "    test.replace(re.compile(r'\\b{}\\b'.format(abrev)), \"\", inplace=True)"
   ]
  },
  {
   "cell_type": "code",
   "execution_count": 66,
   "metadata": {},
   "outputs": [],
   "source": [
    "short_words = ['and', 'of', 'the', 'mfg', 'auto', 'itc', 'tech', 'ta', 'intl', 'new', 'one', 'xin',\n",
    "              'parts', 'for', 'com', 'ds', 'eia', 'nad', 'sto', 'nv', 'nad', 'chem', 'star', '1',\n",
    "              'nri', 'pte', 'acs', 'mti', 'dsi', 'sam', 'asa', 'air', 'trp', 'trb', 'stp', 'afi',\n",
    "              'ace', 'ict', 'wa', 'oun', 'free', 'tag', 'sho', 'ilg', 'light', 'sim', 'as', 'est',\n",
    "              'goods', 'utc', 'prt', 'san', 'del', 'zone', 'sales', 'super', 'tex', 'aim', 'ib']"
   ]
  },
  {
   "cell_type": "code",
   "execution_count": 67,
   "metadata": {},
   "outputs": [
    {
     "name": "stderr",
     "output_type": "stream",
     "text": [
      "100%|██████████████████████████████████████████| 59/59 [03:17<00:00,  3.35s/it]\n"
     ]
    }
   ],
   "source": [
    "# Удалим короткие слова\n",
    "for short in tqdm(short_words):\n",
    "    train.replace(re.compile(r'\\b{}\\b'.format(short)), \"\", inplace=True)\n",
    "    test.replace(re.compile(r'\\b{}\\b'.format(short)), \"\", inplace=True)"
   ]
  },
  {
   "cell_type": "code",
   "execution_count": 68,
   "metadata": {},
   "outputs": [],
   "source": [
    "chars = ['a', 'b', 'c', 'd', 'e', 'f', 'g', 'h', 'i', 'j', 'k', 'l', 'm', \n",
    "         'n', 'o', 'p', 'q', 'r', 's', 't', 'u', 'v', 'w', 'x', 'y', 'z']"
   ]
  },
  {
   "cell_type": "code",
   "execution_count": 69,
   "metadata": {},
   "outputs": [
    {
     "name": "stderr",
     "output_type": "stream",
     "text": [
      "100%|██████████████████████████████████████████| 26/26 [01:30<00:00,  3.49s/it]\n"
     ]
    }
   ],
   "source": [
    "# Удалим все слова, состоящие тольок из 1 буквы \n",
    "for char in tqdm(chars):\n",
    "    train.replace(re.compile(r'\\b{}\\b'.format(char)), \"\", inplace=True)\n",
    "    test.replace(re.compile(r'\\b{}\\b'.format(char)), \"\", inplace=True)"
   ]
  },
  {
   "cell_type": "code",
   "execution_count": 70,
   "metadata": {},
   "outputs": [],
   "source": [
    "# Заменим 2 или более пробела на 1\n",
    "train.replace(re.compile(r\"[ ]{2,}\"), \" \", inplace=True)\n",
    "test.replace(re.compile(r\"[ ]{2,}\"), \" \", inplace=True)"
   ]
  },
  {
   "cell_type": "code",
   "execution_count": 71,
   "metadata": {},
   "outputs": [],
   "source": [
    "# Удалим пробелы по краям\n",
    "train[\"name_1\"] = train[\"name_1\"].str.strip()\n",
    "train[\"name_2\"] = train[\"name_2\"].str.strip()\n",
    "\n",
    "test[\"name_1\"] = test[\"name_1\"].str.strip()\n",
    "test[\"name_2\"] = test[\"name_2\"].str.strip()"
   ]
  },
  {
   "cell_type": "code",
   "execution_count": 72,
   "metadata": {},
   "outputs": [
    {
     "data": {
      "text/html": [
       "<div>\n",
       "<style scoped>\n",
       "    .dataframe tbody tr th:only-of-type {\n",
       "        vertical-align: middle;\n",
       "    }\n",
       "\n",
       "    .dataframe tbody tr th {\n",
       "        vertical-align: top;\n",
       "    }\n",
       "\n",
       "    .dataframe thead th {\n",
       "        text-align: right;\n",
       "    }\n",
       "</style>\n",
       "<table border=\"1\" class=\"dataframe\">\n",
       "  <thead>\n",
       "    <tr style=\"text-align: right;\">\n",
       "      <th></th>\n",
       "      <th>name_1</th>\n",
       "      <th>name_2</th>\n",
       "      <th>is_duplicate</th>\n",
       "    </tr>\n",
       "    <tr>\n",
       "      <th>pair_id</th>\n",
       "      <th></th>\n",
       "      <th></th>\n",
       "      <th></th>\n",
       "    </tr>\n",
       "  </thead>\n",
       "  <tbody>\n",
       "    <tr>\n",
       "      <th>451011</th>\n",
       "      <td>le gia sealing</td>\n",
       "      <td>reda fze</td>\n",
       "      <td>0</td>\n",
       "    </tr>\n",
       "    <tr>\n",
       "      <th>379240</th>\n",
       "      <td>kvk</td>\n",
       "      <td></td>\n",
       "      <td>0</td>\n",
       "    </tr>\n",
       "    <tr>\n",
       "      <th>386065</th>\n",
       "      <td>well</td>\n",
       "      <td>myshoes</td>\n",
       "      <td>0</td>\n",
       "    </tr>\n",
       "    <tr>\n",
       "      <th>489411</th>\n",
       "      <td>schmalz</td>\n",
       "      <td>hs</td>\n",
       "      <td>0</td>\n",
       "    </tr>\n",
       "    <tr>\n",
       "      <th>173450</th>\n",
       "      <td>adesur</td>\n",
       "      <td></td>\n",
       "      <td>0</td>\n",
       "    </tr>\n",
       "    <tr>\n",
       "      <th>333694</th>\n",
       "      <td>sharang</td>\n",
       "      <td>jed</td>\n",
       "      <td>0</td>\n",
       "    </tr>\n",
       "    <tr>\n",
       "      <th>80012</th>\n",
       "      <td>ascent</td>\n",
       "      <td>kerry</td>\n",
       "      <td>0</td>\n",
       "    </tr>\n",
       "    <tr>\n",
       "      <th>227151</th>\n",
       "      <td>blonie</td>\n",
       "      <td></td>\n",
       "      <td>1</td>\n",
       "    </tr>\n",
       "    <tr>\n",
       "      <th>252758</th>\n",
       "      <td>gloves</td>\n",
       "      <td></td>\n",
       "      <td>0</td>\n",
       "    </tr>\n",
       "    <tr>\n",
       "      <th>13007</th>\n",
       "      <td>hyosung heavy</td>\n",
       "      <td></td>\n",
       "      <td>0</td>\n",
       "    </tr>\n",
       "  </tbody>\n",
       "</table>\n",
       "</div>"
      ],
      "text/plain": [
       "                 name_1    name_2  is_duplicate\n",
       "pair_id                                        \n",
       "451011   le gia sealing  reda fze             0\n",
       "379240              kvk                       0\n",
       "386065             well   myshoes             0\n",
       "489411          schmalz        hs             0\n",
       "173450           adesur                       0\n",
       "333694          sharang       jed             0\n",
       "80012            ascent     kerry             0\n",
       "227151           blonie                       1\n",
       "252758           gloves                       0\n",
       "13007     hyosung heavy                       0"
      ]
     },
     "execution_count": 72,
     "metadata": {},
     "output_type": "execute_result"
    }
   ],
   "source": [
    "train.sample(10)"
   ]
  },
  {
   "cell_type": "code",
   "execution_count": 73,
   "metadata": {},
   "outputs": [
    {
     "data": {
      "text/html": [
       "<div>\n",
       "<style scoped>\n",
       "    .dataframe tbody tr th:only-of-type {\n",
       "        vertical-align: middle;\n",
       "    }\n",
       "\n",
       "    .dataframe tbody tr th {\n",
       "        vertical-align: top;\n",
       "    }\n",
       "\n",
       "    .dataframe thead th {\n",
       "        text-align: right;\n",
       "    }\n",
       "</style>\n",
       "<table border=\"1\" class=\"dataframe\">\n",
       "  <thead>\n",
       "    <tr style=\"text-align: right;\">\n",
       "      <th></th>\n",
       "      <th>name_1</th>\n",
       "      <th>name_2</th>\n",
       "    </tr>\n",
       "    <tr>\n",
       "      <th>pair_id</th>\n",
       "      <th></th>\n",
       "      <th></th>\n",
       "    </tr>\n",
       "  </thead>\n",
       "  <tbody>\n",
       "    <tr>\n",
       "      <th>172427</th>\n",
       "      <td></td>\n",
       "      <td></td>\n",
       "    </tr>\n",
       "    <tr>\n",
       "      <th>190387</th>\n",
       "      <td></td>\n",
       "      <td>wakol</td>\n",
       "    </tr>\n",
       "    <tr>\n",
       "      <th>54782</th>\n",
       "      <td>nmt</td>\n",
       "      <td>bc</td>\n",
       "    </tr>\n",
       "    <tr>\n",
       "      <th>193662</th>\n",
       "      <td>vista ventures</td>\n",
       "      <td></td>\n",
       "    </tr>\n",
       "    <tr>\n",
       "      <th>54787</th>\n",
       "      <td>grippo</td>\n",
       "      <td>doms</td>\n",
       "    </tr>\n",
       "    <tr>\n",
       "      <th>116894</th>\n",
       "      <td>log</td>\n",
       "      <td>yipeng</td>\n",
       "    </tr>\n",
       "    <tr>\n",
       "      <th>35941</th>\n",
       "      <td></td>\n",
       "      <td>beauty</td>\n",
       "    </tr>\n",
       "    <tr>\n",
       "      <th>103089</th>\n",
       "      <td>elisei nastri trasportatori</td>\n",
       "      <td>infinity</td>\n",
       "    </tr>\n",
       "    <tr>\n",
       "      <th>119233</th>\n",
       "      <td>zeon</td>\n",
       "      <td>hirosaki</td>\n",
       "    </tr>\n",
       "    <tr>\n",
       "      <th>124891</th>\n",
       "      <td></td>\n",
       "      <td>citra cemerlang</td>\n",
       "    </tr>\n",
       "  </tbody>\n",
       "</table>\n",
       "</div>"
      ],
      "text/plain": [
       "                              name_1           name_2\n",
       "pair_id                                              \n",
       "172427                                               \n",
       "190387                                          wakol\n",
       "54782                            nmt               bc\n",
       "193662                vista ventures                 \n",
       "54787                         grippo             doms\n",
       "116894                           log           yipeng\n",
       "35941                                          beauty\n",
       "103089   elisei nastri trasportatori         infinity\n",
       "119233                          zeon         hirosaki\n",
       "124891                                citra cemerlang"
      ]
     },
     "execution_count": 73,
     "metadata": {},
     "output_type": "execute_result"
    }
   ],
   "source": [
    "test.sample(10)"
   ]
  },
  {
   "cell_type": "markdown",
   "metadata": {},
   "source": [
    "# Простые метрики сходства строк после предобработки"
   ]
  },
  {
   "cell_type": "code",
   "execution_count": 79,
   "metadata": {},
   "outputs": [],
   "source": [
    "# Рассчитаем расстояние Левенштейна и добавим счетчики на количество \n",
    "# выполненных алгоритмом операций (вставка, удаление, замена, равенство)"
   ]
  },
  {
   "cell_type": "code",
   "execution_count": 80,
   "metadata": {},
   "outputs": [],
   "source": [
    "def levenshteinDistanceDP(token1, token2):\n",
    "    distances = np.zeros((len(token1) + 1, len(token2) + 1))\n",
    "\n",
    "    for t1 in range(len(token1) + 1):\n",
    "        distances[t1][0] = t1\n",
    "\n",
    "    for t2 in range(len(token2) + 1):\n",
    "        distances[0][t2] = t2\n",
    "        \n",
    "    a = 0\n",
    "    b = 0\n",
    "    c = 0\n",
    "    \n",
    "    cnt_a = 0           # счетчик количества вставок\n",
    "    cnt_b = 0           # счетчик количества удалений\n",
    "    cnt_c = 0           # счетчик количества замен\n",
    "    cnt_equal = 0       # счетчик количества равных элементов\n",
    "    \n",
    "    for t1 in range(1, len(token1) + 1):\n",
    "        for t2 in range(1, len(token2) + 1):\n",
    "            if (token1[t1-1] == token2[t2-1]):\n",
    "                distances[t1][t2] = distances[t1 - 1][t2 - 1]\n",
    "                cnt_equal += 1\n",
    "            else:\n",
    "                a = distances[t1][t2 - 1]\n",
    "                b = distances[t1 - 1][t2]\n",
    "                c = distances[t1 - 1][t2 - 1]\n",
    "                \n",
    "                if (a <= b and a <= c):\n",
    "                    distances[t1][t2] = a + 1\n",
    "                    cnt_a += 1\n",
    "                elif (b <= a and b <= c):\n",
    "                    distances[t1][t2] = b + 1\n",
    "                    cnt_b += 1\n",
    "                else:\n",
    "                    distances[t1][t2] = c + 1\n",
    "                    cnt_c += 1\n",
    "\n",
    "    return distances[len(token1)][len(token2)], cnt_a, cnt_b, cnt_c, cnt_equal"
   ]
  },
  {
   "cell_type": "code",
   "execution_count": 81,
   "metadata": {},
   "outputs": [
    {
     "name": "stderr",
     "output_type": "stream",
     "text": [
      "100%|████████████████████████████████| 497819/497819 [00:52<00:00, 9422.50it/s]\n",
      "100%|████████████████████████████████| 213249/213249 [00:22<00:00, 9454.92it/s]\n"
     ]
    }
   ],
   "source": [
    "# Найдем нормированное расстояние Левенштейна после предобработки\n",
    "normalized_levenshtein = NormalizedLevenshtein()\n",
    "\n",
    "train[\"norm_levenshtein_proc\"] = train.progress_apply(lambda r: normalized_levenshtein.distance(r.name_1, r.name_2),\n",
    "                                                axis=1)\n",
    "test[\"norm_levenshtein_proc\"] = test.progress_apply(lambda r: normalized_levenshtein.distance(r.name_1, r.name_2),\n",
    "                                              axis=1)"
   ]
  },
  {
   "cell_type": "code",
   "execution_count": 82,
   "metadata": {},
   "outputs": [],
   "source": [
    "# Найдем расстояние Левенштейна и количество пересмотренных алгоритмом операций "
   ]
  },
  {
   "cell_type": "code",
   "execution_count": 83,
   "metadata": {},
   "outputs": [
    {
     "name": "stderr",
     "output_type": "stream",
     "text": [
      "100%|████████████████████████████████| 497819/497819 [01:58<00:00, 4201.47it/s]\n"
     ]
    }
   ],
   "source": [
    "df_temp_proc = train.progress_apply(lambda x: levenshteinDistanceDP(x.name_1, x.name_2), axis=1)"
   ]
  },
  {
   "cell_type": "code",
   "execution_count": 84,
   "metadata": {},
   "outputs": [],
   "source": [
    "train['levenshtein_proc'] = df_temp_proc.apply(lambda x: x[0])\n",
    "train['num_ins_proc'] = df_temp_proc.apply(lambda x: x[1])\n",
    "train['num_del_proc'] = df_temp_proc.apply(lambda x: x[2])\n",
    "train['num_sub_proc'] = df_temp_proc.apply(lambda x: x[3])\n",
    "train['num_equals_proc'] = df_temp_proc.apply(lambda x: x[4])"
   ]
  },
  {
   "cell_type": "code",
   "execution_count": 85,
   "metadata": {},
   "outputs": [
    {
     "name": "stderr",
     "output_type": "stream",
     "text": [
      "100%|████████████████████████████████| 213249/213249 [00:50<00:00, 4191.14it/s]\n"
     ]
    }
   ],
   "source": [
    "df_temp_test_proc = test.progress_apply(lambda x: levenshteinDistanceDP(x.name_1, x.name_2), axis=1)"
   ]
  },
  {
   "cell_type": "code",
   "execution_count": 86,
   "metadata": {},
   "outputs": [],
   "source": [
    "test['levenshtein_proc'] = df_temp_test_proc.apply(lambda x: x[0])\n",
    "test['num_ins_proc'] = df_temp_test_proc.apply(lambda x: x[1])\n",
    "test['num_del_proc'] = df_temp_test_proc.apply(lambda x: x[2])\n",
    "test['num_sub_proc'] = df_temp_test_proc.apply(lambda x: x[3])\n",
    "test['num_equals_proc'] = df_temp_test_proc.apply(lambda x: x[4])"
   ]
  },
  {
   "cell_type": "code",
   "execution_count": 87,
   "metadata": {},
   "outputs": [],
   "source": [
    "# Найдем произведение, сумму и разность длин сравниваемых строк "
   ]
  },
  {
   "cell_type": "code",
   "execution_count": 88,
   "metadata": {},
   "outputs": [],
   "source": [
    "tr_len_name1_proc = train.name_1.apply(lambda x: len(x))\n",
    "tr_len_name2_proc = train.name_2.apply(lambda x: len(x))\n",
    "\n",
    "test_len_name1_proc = test.name_1.apply(lambda x: len(x))\n",
    "test_len_name2_proc = test.name_2.apply(lambda x: len(x))"
   ]
  },
  {
   "cell_type": "code",
   "execution_count": 89,
   "metadata": {},
   "outputs": [],
   "source": [
    "train['len_prod_proc'] = abs(tr_len_name1_proc * tr_len_name2_proc)\n",
    "test['len_prod_proc'] = abs(test_len_name1_proc * test_len_name2_proc)"
   ]
  },
  {
   "cell_type": "code",
   "execution_count": 90,
   "metadata": {},
   "outputs": [],
   "source": [
    "train['len_sum_proc'] = abs(tr_len_name1_proc + tr_len_name2_proc)\n",
    "test['len_sum_proc'] = abs(test_len_name1_proc + test_len_name2_proc)"
   ]
  },
  {
   "cell_type": "code",
   "execution_count": 91,
   "metadata": {},
   "outputs": [],
   "source": [
    "train['len_diff_proc'] = abs(tr_len_name1_proc - tr_len_name2_proc)\n",
    "test['len_diff_proc'] = abs(test_len_name1_proc - test_len_name2_proc)"
   ]
  },
  {
   "cell_type": "code",
   "execution_count": 92,
   "metadata": {},
   "outputs": [],
   "source": [
    "train['len_ratio_proc'] = (train['len_diff_proc'] + 1) / (train['len_sum_proc'] + 1)\n",
    "test['len_ratio_proc'] = (test['len_diff_proc'] + 1) / (test['len_sum_proc'] + 1)"
   ]
  },
  {
   "cell_type": "code",
   "execution_count": 93,
   "metadata": {},
   "outputs": [],
   "source": [
    "train['levenstein_len_prod_ratio_proc'] = train['levenshtein_proc'] / (train['len_prod_proc'] + 1)\n",
    "test['levenstein_len_prod_ratio_proc'] = test['levenshtein_proc'] / (test['len_prod_proc'] + 1)"
   ]
  },
  {
   "cell_type": "code",
   "execution_count": 94,
   "metadata": {},
   "outputs": [],
   "source": [
    "train['equals_len_prod_ratio_proc'] = train['num_equals_proc'] / (train['len_prod_proc'] + 1)\n",
    "test['equals_len_prod_ratio_proc'] = test['num_equals_proc'] / (test['len_prod_proc'] + 1)"
   ]
  },
  {
   "cell_type": "code",
   "execution_count": 95,
   "metadata": {},
   "outputs": [
    {
     "data": {
      "image/png": "[encoded data removed]",
      "text/plain": [
       "<Figure size 432x432 with 1 Axes>"
      ]
     },
     "metadata": {
      "needs_background": "dark"
     },
     "output_type": "display_data"
    }
   ],
   "source": [
    "plt.figure(figsize=(6,6))\n",
    "\n",
    "train.boxplot(\"norm_levenshtein_proc\", by=\"is_duplicate\", ax=plt.gca())\n",
    "plt.suptitle(\"\")\n",
    "plt.title(\"Levenstein  distance\", fontsize=12);"
   ]
  },
  {
   "cell_type": "code",
   "execution_count": 96,
   "metadata": {},
   "outputs": [
    {
     "data": {
      "image/png": "[encoded data removed]",
      "text/plain": [
       "<Figure size 432x432 with 1 Axes>"
      ]
     },
     "metadata": {
      "needs_background": "dark"
     },
     "output_type": "display_data"
    }
   ],
   "source": [
    "plt.figure(figsize=(6,6))\n",
    "\n",
    "train.boxplot(\"num_equals_proc\", by=\"is_duplicate\", ax=plt.gca())\n",
    "plt.suptitle(\"\")\n",
    "plt.title(\"Normalized levenstein  distance\", fontsize=12);"
   ]
  },
  {
   "cell_type": "code",
   "execution_count": 97,
   "metadata": {},
   "outputs": [],
   "source": [
    "from weighted_levenshtein import lev, osa, dam_lev"
   ]
  },
  {
   "cell_type": "code",
   "execution_count": 98,
   "metadata": {},
   "outputs": [],
   "source": [
    "insert_costs = np.ones(128, dtype=np.float64)*0.5\n",
    "delete_costs = np.ones(128, dtype=np.float64)*0.5\n",
    "substitute_costs = np.ones((128, 128), dtype=np.float64)*2"
   ]
  },
  {
   "cell_type": "code",
   "execution_count": 99,
   "metadata": {},
   "outputs": [
    {
     "name": "stderr",
     "output_type": "stream",
     "text": [
      "100%|███████████████████████████████| 497819/497819 [00:34<00:00, 14374.96it/s]\n"
     ]
    }
   ],
   "source": [
    "train['weighted_lev'] = train.progress_apply(lambda r: lev(r.name_1, \n",
    "                                                           r.name_2, \n",
    "                                                           insert_costs=insert_costs, \n",
    "                                                           delete_costs=delete_costs, \n",
    "                                                           substitute_costs=substitute_costs), axis=1)           "
   ]
  },
  {
   "cell_type": "code",
   "execution_count": 100,
   "metadata": {},
   "outputs": [
    {
     "name": "stderr",
     "output_type": "stream",
     "text": [
      "100%|███████████████████████████████| 213249/213249 [00:14<00:00, 14437.16it/s]\n"
     ]
    }
   ],
   "source": [
    "test['weighted_lev'] = test.progress_apply(lambda r: lev(r.name_1, \n",
    "                                                           r.name_2, \n",
    "                                                           insert_costs=insert_costs, \n",
    "                                                           delete_costs=delete_costs, \n",
    "                                                           substitute_costs=substitute_costs), axis=1)  "
   ]
  },
  {
   "cell_type": "code",
   "execution_count": 101,
   "metadata": {},
   "outputs": [],
   "source": [
    "#test['weighted_lev'] = test.progress_apply(lambda r: lev(r.name_1.encode('ascii', 'ignore'), r.name_2.encode('ascii', 'ignore'), substitute_costs=substitute_costs), axis=1)           "
   ]
  },
  {
   "cell_type": "code",
   "execution_count": 102,
   "metadata": {},
   "outputs": [],
   "source": [
    "train['norm_ins_del'] = np.sqrt(train['num_ins_proc']**2 + train['num_del_proc']**2)\n",
    "test['norm_ins_del'] = np.sqrt(test['num_ins_proc']**2 + test['num_del_proc']**2)"
   ]
  },
  {
   "cell_type": "code",
   "execution_count": 103,
   "metadata": {},
   "outputs": [],
   "source": [
    "train['norm_weighted_lev'] = train['weighted_lev'] / (train['len_prod_proc'] + 1)\n",
    "test['norm_weighted_lev'] = test['weighted_lev'] / (test['len_prod_proc'] + 1)"
   ]
  },
  {
   "cell_type": "code",
   "execution_count": 104,
   "metadata": {},
   "outputs": [],
   "source": [
    "train['norm_weighted_lev_sum'] = train['weighted_lev'] / (train['len_sum_proc'] + 1)\n",
    "test['norm_weighted_lev_sum'] = test['weighted_lev'] / (test['len_sum_proc'] + 1)"
   ]
  },
  {
   "cell_type": "code",
   "execution_count": 105,
   "metadata": {},
   "outputs": [
    {
     "data": {
      "text/html": [
       "<div>\n",
       "<style scoped>\n",
       "    .dataframe tbody tr th:only-of-type {\n",
       "        vertical-align: middle;\n",
       "    }\n",
       "\n",
       "    .dataframe tbody tr th {\n",
       "        vertical-align: top;\n",
       "    }\n",
       "\n",
       "    .dataframe thead th {\n",
       "        text-align: right;\n",
       "    }\n",
       "</style>\n",
       "<table border=\"1\" class=\"dataframe\">\n",
       "  <thead>\n",
       "    <tr style=\"text-align: right;\">\n",
       "      <th></th>\n",
       "      <th>name_1</th>\n",
       "      <th>name_2</th>\n",
       "      <th>is_duplicate</th>\n",
       "      <th>norm_levenshtein_proc</th>\n",
       "      <th>levenshtein_proc</th>\n",
       "      <th>num_ins_proc</th>\n",
       "      <th>num_del_proc</th>\n",
       "      <th>num_sub_proc</th>\n",
       "      <th>num_equals_proc</th>\n",
       "      <th>len_prod_proc</th>\n",
       "      <th>len_sum_proc</th>\n",
       "      <th>len_diff_proc</th>\n",
       "      <th>len_ratio_proc</th>\n",
       "      <th>levenstein_len_prod_ratio_proc</th>\n",
       "      <th>equals_len_prod_ratio_proc</th>\n",
       "      <th>weighted_lev</th>\n",
       "      <th>norm_ins_del</th>\n",
       "      <th>norm_weighted_lev</th>\n",
       "      <th>norm_weighted_lev_sum</th>\n",
       "    </tr>\n",
       "    <tr>\n",
       "      <th>pair_id</th>\n",
       "      <th></th>\n",
       "      <th></th>\n",
       "      <th></th>\n",
       "      <th></th>\n",
       "      <th></th>\n",
       "      <th></th>\n",
       "      <th></th>\n",
       "      <th></th>\n",
       "      <th></th>\n",
       "      <th></th>\n",
       "      <th></th>\n",
       "      <th></th>\n",
       "      <th></th>\n",
       "      <th></th>\n",
       "      <th></th>\n",
       "      <th></th>\n",
       "      <th></th>\n",
       "      <th></th>\n",
       "      <th></th>\n",
       "    </tr>\n",
       "  </thead>\n",
       "  <tbody>\n",
       "    <tr>\n",
       "      <th>375086</th>\n",
       "      <td>bridgestone firestone</td>\n",
       "      <td>bridgestone</td>\n",
       "      <td>1</td>\n",
       "      <td>0.476190</td>\n",
       "      <td>10.0</td>\n",
       "      <td>54</td>\n",
       "      <td>154</td>\n",
       "      <td>0</td>\n",
       "      <td>23</td>\n",
       "      <td>231</td>\n",
       "      <td>32</td>\n",
       "      <td>10</td>\n",
       "      <td>0.333333</td>\n",
       "      <td>0.043103</td>\n",
       "      <td>0.099138</td>\n",
       "      <td>5.0</td>\n",
       "      <td>163.193137</td>\n",
       "      <td>0.021552</td>\n",
       "      <td>0.151515</td>\n",
       "    </tr>\n",
       "    <tr>\n",
       "      <th>305653</th>\n",
       "      <td>bridgestone</td>\n",
       "      <td>bridgestone hosepower</td>\n",
       "      <td>1</td>\n",
       "      <td>0.476190</td>\n",
       "      <td>10.0</td>\n",
       "      <td>156</td>\n",
       "      <td>54</td>\n",
       "      <td>0</td>\n",
       "      <td>21</td>\n",
       "      <td>231</td>\n",
       "      <td>32</td>\n",
       "      <td>10</td>\n",
       "      <td>0.333333</td>\n",
       "      <td>0.043103</td>\n",
       "      <td>0.090517</td>\n",
       "      <td>5.0</td>\n",
       "      <td>165.081798</td>\n",
       "      <td>0.021552</td>\n",
       "      <td>0.151515</td>\n",
       "    </tr>\n",
       "    <tr>\n",
       "      <th>107707</th>\n",
       "      <td>exxonmobil</td>\n",
       "      <td>exxonmobil</td>\n",
       "      <td>1</td>\n",
       "      <td>0.000000</td>\n",
       "      <td>0.0</td>\n",
       "      <td>43</td>\n",
       "      <td>43</td>\n",
       "      <td>0</td>\n",
       "      <td>14</td>\n",
       "      <td>100</td>\n",
       "      <td>20</td>\n",
       "      <td>0</td>\n",
       "      <td>0.047619</td>\n",
       "      <td>0.000000</td>\n",
       "      <td>0.138614</td>\n",
       "      <td>0.0</td>\n",
       "      <td>60.811183</td>\n",
       "      <td>0.000000</td>\n",
       "      <td>0.000000</td>\n",
       "    </tr>\n",
       "    <tr>\n",
       "      <th>465397</th>\n",
       "      <td>reliance</td>\n",
       "      <td>reliance sibur</td>\n",
       "      <td>1</td>\n",
       "      <td>0.428571</td>\n",
       "      <td>6.0</td>\n",
       "      <td>73</td>\n",
       "      <td>27</td>\n",
       "      <td>0</td>\n",
       "      <td>12</td>\n",
       "      <td>112</td>\n",
       "      <td>22</td>\n",
       "      <td>6</td>\n",
       "      <td>0.304348</td>\n",
       "      <td>0.053097</td>\n",
       "      <td>0.106195</td>\n",
       "      <td>3.0</td>\n",
       "      <td>77.833155</td>\n",
       "      <td>0.026549</td>\n",
       "      <td>0.130435</td>\n",
       "    </tr>\n",
       "    <tr>\n",
       "      <th>314958</th>\n",
       "      <td>sika</td>\n",
       "      <td>sika</td>\n",
       "      <td>1</td>\n",
       "      <td>0.000000</td>\n",
       "      <td>0.0</td>\n",
       "      <td>6</td>\n",
       "      <td>6</td>\n",
       "      <td>0</td>\n",
       "      <td>4</td>\n",
       "      <td>16</td>\n",
       "      <td>8</td>\n",
       "      <td>0</td>\n",
       "      <td>0.111111</td>\n",
       "      <td>0.000000</td>\n",
       "      <td>0.235294</td>\n",
       "      <td>0.0</td>\n",
       "      <td>8.485281</td>\n",
       "      <td>0.000000</td>\n",
       "      <td>0.000000</td>\n",
       "    </tr>\n",
       "    <tr>\n",
       "      <th>17266</th>\n",
       "      <td>pavimental</td>\n",
       "      <td>pavimental</td>\n",
       "      <td>1</td>\n",
       "      <td>0.000000</td>\n",
       "      <td>0.0</td>\n",
       "      <td>44</td>\n",
       "      <td>44</td>\n",
       "      <td>0</td>\n",
       "      <td>12</td>\n",
       "      <td>100</td>\n",
       "      <td>20</td>\n",
       "      <td>0</td>\n",
       "      <td>0.047619</td>\n",
       "      <td>0.000000</td>\n",
       "      <td>0.118812</td>\n",
       "      <td>0.0</td>\n",
       "      <td>62.225397</td>\n",
       "      <td>0.000000</td>\n",
       "      <td>0.000000</td>\n",
       "    </tr>\n",
       "    <tr>\n",
       "      <th>75615</th>\n",
       "      <td>basf finlay</td>\n",
       "      <td>basf</td>\n",
       "      <td>1</td>\n",
       "      <td>0.636364</td>\n",
       "      <td>7.0</td>\n",
       "      <td>6</td>\n",
       "      <td>32</td>\n",
       "      <td>0</td>\n",
       "      <td>6</td>\n",
       "      <td>44</td>\n",
       "      <td>15</td>\n",
       "      <td>7</td>\n",
       "      <td>0.500000</td>\n",
       "      <td>0.155556</td>\n",
       "      <td>0.133333</td>\n",
       "      <td>3.5</td>\n",
       "      <td>32.557641</td>\n",
       "      <td>0.077778</td>\n",
       "      <td>0.218750</td>\n",
       "    </tr>\n",
       "    <tr>\n",
       "      <th>153867</th>\n",
       "      <td>arlanxeo</td>\n",
       "      <td>ktn underwood arlanxeo</td>\n",
       "      <td>1</td>\n",
       "      <td>0.636364</td>\n",
       "      <td>14.0</td>\n",
       "      <td>117</td>\n",
       "      <td>29</td>\n",
       "      <td>14</td>\n",
       "      <td>16</td>\n",
       "      <td>176</td>\n",
       "      <td>30</td>\n",
       "      <td>14</td>\n",
       "      <td>0.483871</td>\n",
       "      <td>0.079096</td>\n",
       "      <td>0.090395</td>\n",
       "      <td>7.0</td>\n",
       "      <td>120.540450</td>\n",
       "      <td>0.039548</td>\n",
       "      <td>0.225806</td>\n",
       "    </tr>\n",
       "    <tr>\n",
       "      <th>140120</th>\n",
       "      <td>contitech</td>\n",
       "      <td>contitech</td>\n",
       "      <td>1</td>\n",
       "      <td>0.000000</td>\n",
       "      <td>0.0</td>\n",
       "      <td>34</td>\n",
       "      <td>34</td>\n",
       "      <td>0</td>\n",
       "      <td>13</td>\n",
       "      <td>81</td>\n",
       "      <td>18</td>\n",
       "      <td>0</td>\n",
       "      <td>0.052632</td>\n",
       "      <td>0.000000</td>\n",
       "      <td>0.158537</td>\n",
       "      <td>0.0</td>\n",
       "      <td>48.083261</td>\n",
       "      <td>0.000000</td>\n",
       "      <td>0.000000</td>\n",
       "    </tr>\n",
       "    <tr>\n",
       "      <th>452441</th>\n",
       "      <td>ou pigipada</td>\n",
       "      <td>pigipada ou</td>\n",
       "      <td>1</td>\n",
       "      <td>0.545455</td>\n",
       "      <td>6.0</td>\n",
       "      <td>69</td>\n",
       "      <td>29</td>\n",
       "      <td>6</td>\n",
       "      <td>17</td>\n",
       "      <td>121</td>\n",
       "      <td>22</td>\n",
       "      <td>0</td>\n",
       "      <td>0.043478</td>\n",
       "      <td>0.049180</td>\n",
       "      <td>0.139344</td>\n",
       "      <td>3.0</td>\n",
       "      <td>74.846510</td>\n",
       "      <td>0.024590</td>\n",
       "      <td>0.130435</td>\n",
       "    </tr>\n",
       "  </tbody>\n",
       "</table>\n",
       "</div>"
      ],
      "text/plain": [
       "                        name_1                  name_2  is_duplicate  \\\n",
       "pair_id                                                                \n",
       "375086   bridgestone firestone             bridgestone             1   \n",
       "305653             bridgestone   bridgestone hosepower             1   \n",
       "107707              exxonmobil              exxonmobil             1   \n",
       "465397                reliance          reliance sibur             1   \n",
       "314958                    sika                    sika             1   \n",
       "17266               pavimental              pavimental             1   \n",
       "75615              basf finlay                    basf             1   \n",
       "153867                arlanxeo  ktn underwood arlanxeo             1   \n",
       "140120               contitech               contitech             1   \n",
       "452441             ou pigipada             pigipada ou             1   \n",
       "\n",
       "         norm_levenshtein_proc  levenshtein_proc  num_ins_proc  num_del_proc  \\\n",
       "pair_id                                                                        \n",
       "375086                0.476190              10.0            54           154   \n",
       "305653                0.476190              10.0           156            54   \n",
       "107707                0.000000               0.0            43            43   \n",
       "465397                0.428571               6.0            73            27   \n",
       "314958                0.000000               0.0             6             6   \n",
       "17266                 0.000000               0.0            44            44   \n",
       "75615                 0.636364               7.0             6            32   \n",
       "153867                0.636364              14.0           117            29   \n",
       "140120                0.000000               0.0            34            34   \n",
       "452441                0.545455               6.0            69            29   \n",
       "\n",
       "         num_sub_proc  num_equals_proc  len_prod_proc  len_sum_proc  \\\n",
       "pair_id                                                               \n",
       "375086              0               23            231            32   \n",
       "305653              0               21            231            32   \n",
       "107707              0               14            100            20   \n",
       "465397              0               12            112            22   \n",
       "314958              0                4             16             8   \n",
       "17266               0               12            100            20   \n",
       "75615               0                6             44            15   \n",
       "153867             14               16            176            30   \n",
       "140120              0               13             81            18   \n",
       "452441              6               17            121            22   \n",
       "\n",
       "         len_diff_proc  len_ratio_proc  levenstein_len_prod_ratio_proc  \\\n",
       "pair_id                                                                  \n",
       "375086              10        0.333333                        0.043103   \n",
       "305653              10        0.333333                        0.043103   \n",
       "107707               0        0.047619                        0.000000   \n",
       "465397               6        0.304348                        0.053097   \n",
       "314958               0        0.111111                        0.000000   \n",
       "17266                0        0.047619                        0.000000   \n",
       "75615                7        0.500000                        0.155556   \n",
       "153867              14        0.483871                        0.079096   \n",
       "140120               0        0.052632                        0.000000   \n",
       "452441               0        0.043478                        0.049180   \n",
       "\n",
       "         equals_len_prod_ratio_proc  weighted_lev  norm_ins_del  \\\n",
       "pair_id                                                           \n",
       "375086                     0.099138           5.0    163.193137   \n",
       "305653                     0.090517           5.0    165.081798   \n",
       "107707                     0.138614           0.0     60.811183   \n",
       "465397                     0.106195           3.0     77.833155   \n",
       "314958                     0.235294           0.0      8.485281   \n",
       "17266                      0.118812           0.0     62.225397   \n",
       "75615                      0.133333           3.5     32.557641   \n",
       "153867                     0.090395           7.0    120.540450   \n",
       "140120                     0.158537           0.0     48.083261   \n",
       "452441                     0.139344           3.0     74.846510   \n",
       "\n",
       "         norm_weighted_lev  norm_weighted_lev_sum  \n",
       "pair_id                                            \n",
       "375086            0.021552               0.151515  \n",
       "305653            0.021552               0.151515  \n",
       "107707            0.000000               0.000000  \n",
       "465397            0.026549               0.130435  \n",
       "314958            0.000000               0.000000  \n",
       "17266             0.000000               0.000000  \n",
       "75615             0.077778               0.218750  \n",
       "153867            0.039548               0.225806  \n",
       "140120            0.000000               0.000000  \n",
       "452441            0.024590               0.130435  "
      ]
     },
     "execution_count": 105,
     "metadata": {},
     "output_type": "execute_result"
    }
   ],
   "source": [
    "train[train.is_duplicate == 1].sample(10)"
   ]
  },
  {
   "cell_type": "code",
   "execution_count": 106,
   "metadata": {},
   "outputs": [
    {
     "data": {
      "text/html": [
       "<div>\n",
       "<style scoped>\n",
       "    .dataframe tbody tr th:only-of-type {\n",
       "        vertical-align: middle;\n",
       "    }\n",
       "\n",
       "    .dataframe tbody tr th {\n",
       "        vertical-align: top;\n",
       "    }\n",
       "\n",
       "    .dataframe thead th {\n",
       "        text-align: right;\n",
       "    }\n",
       "</style>\n",
       "<table border=\"1\" class=\"dataframe\">\n",
       "  <thead>\n",
       "    <tr style=\"text-align: right;\">\n",
       "      <th></th>\n",
       "      <th>name_1</th>\n",
       "      <th>name_2</th>\n",
       "      <th>is_duplicate</th>\n",
       "      <th>norm_levenshtein_proc</th>\n",
       "      <th>levenshtein_proc</th>\n",
       "      <th>num_ins_proc</th>\n",
       "      <th>num_del_proc</th>\n",
       "      <th>num_sub_proc</th>\n",
       "      <th>num_equals_proc</th>\n",
       "      <th>len_prod_proc</th>\n",
       "      <th>len_sum_proc</th>\n",
       "      <th>len_diff_proc</th>\n",
       "      <th>len_ratio_proc</th>\n",
       "      <th>levenstein_len_prod_ratio_proc</th>\n",
       "      <th>equals_len_prod_ratio_proc</th>\n",
       "      <th>weighted_lev</th>\n",
       "      <th>norm_ins_del</th>\n",
       "      <th>norm_weighted_lev</th>\n",
       "      <th>norm_weighted_lev_sum</th>\n",
       "    </tr>\n",
       "    <tr>\n",
       "      <th>pair_id</th>\n",
       "      <th></th>\n",
       "      <th></th>\n",
       "      <th></th>\n",
       "      <th></th>\n",
       "      <th></th>\n",
       "      <th></th>\n",
       "      <th></th>\n",
       "      <th></th>\n",
       "      <th></th>\n",
       "      <th></th>\n",
       "      <th></th>\n",
       "      <th></th>\n",
       "      <th></th>\n",
       "      <th></th>\n",
       "      <th></th>\n",
       "      <th></th>\n",
       "      <th></th>\n",
       "      <th></th>\n",
       "      <th></th>\n",
       "    </tr>\n",
       "  </thead>\n",
       "  <tbody>\n",
       "    <tr>\n",
       "      <th>126411</th>\n",
       "      <td>pico rivera warehouse</td>\n",
       "      <td></td>\n",
       "      <td>0</td>\n",
       "      <td>1.000000</td>\n",
       "      <td>21.0</td>\n",
       "      <td>0</td>\n",
       "      <td>0</td>\n",
       "      <td>0</td>\n",
       "      <td>0</td>\n",
       "      <td>0</td>\n",
       "      <td>21</td>\n",
       "      <td>21</td>\n",
       "      <td>1.000000</td>\n",
       "      <td>21.000000</td>\n",
       "      <td>0.000000</td>\n",
       "      <td>10.5</td>\n",
       "      <td>0.000000</td>\n",
       "      <td>10.500000</td>\n",
       "      <td>0.477273</td>\n",
       "    </tr>\n",
       "    <tr>\n",
       "      <th>434304</th>\n",
       "      <td>alibesa</td>\n",
       "      <td>synthos kralupy</td>\n",
       "      <td>0</td>\n",
       "      <td>0.866667</td>\n",
       "      <td>13.0</td>\n",
       "      <td>68</td>\n",
       "      <td>21</td>\n",
       "      <td>11</td>\n",
       "      <td>5</td>\n",
       "      <td>105</td>\n",
       "      <td>22</td>\n",
       "      <td>8</td>\n",
       "      <td>0.391304</td>\n",
       "      <td>0.122642</td>\n",
       "      <td>0.047170</td>\n",
       "      <td>9.0</td>\n",
       "      <td>71.168813</td>\n",
       "      <td>0.084906</td>\n",
       "      <td>0.391304</td>\n",
       "    </tr>\n",
       "    <tr>\n",
       "      <th>444810</th>\n",
       "      <td></td>\n",
       "      <td>msl</td>\n",
       "      <td>0</td>\n",
       "      <td>1.000000</td>\n",
       "      <td>3.0</td>\n",
       "      <td>0</td>\n",
       "      <td>0</td>\n",
       "      <td>0</td>\n",
       "      <td>0</td>\n",
       "      <td>0</td>\n",
       "      <td>3</td>\n",
       "      <td>3</td>\n",
       "      <td>1.000000</td>\n",
       "      <td>3.000000</td>\n",
       "      <td>0.000000</td>\n",
       "      <td>1.5</td>\n",
       "      <td>0.000000</td>\n",
       "      <td>1.500000</td>\n",
       "      <td>0.375000</td>\n",
       "    </tr>\n",
       "    <tr>\n",
       "      <th>470218</th>\n",
       "      <td>breg</td>\n",
       "      <td>trelleborg</td>\n",
       "      <td>0</td>\n",
       "      <td>0.700000</td>\n",
       "      <td>7.0</td>\n",
       "      <td>26</td>\n",
       "      <td>6</td>\n",
       "      <td>2</td>\n",
       "      <td>6</td>\n",
       "      <td>40</td>\n",
       "      <td>14</td>\n",
       "      <td>6</td>\n",
       "      <td>0.466667</td>\n",
       "      <td>0.170732</td>\n",
       "      <td>0.146341</td>\n",
       "      <td>4.0</td>\n",
       "      <td>26.683328</td>\n",
       "      <td>0.097561</td>\n",
       "      <td>0.266667</td>\n",
       "    </tr>\n",
       "    <tr>\n",
       "      <th>422272</th>\n",
       "      <td>cerealsoilsfoodstuffs foreign</td>\n",
       "      <td>foreign</td>\n",
       "      <td>0</td>\n",
       "      <td>0.758621</td>\n",
       "      <td>22.0</td>\n",
       "      <td>28</td>\n",
       "      <td>150</td>\n",
       "      <td>8</td>\n",
       "      <td>17</td>\n",
       "      <td>203</td>\n",
       "      <td>36</td>\n",
       "      <td>22</td>\n",
       "      <td>0.621622</td>\n",
       "      <td>0.107843</td>\n",
       "      <td>0.083333</td>\n",
       "      <td>11.0</td>\n",
       "      <td>152.590956</td>\n",
       "      <td>0.053922</td>\n",
       "      <td>0.297297</td>\n",
       "    </tr>\n",
       "    <tr>\n",
       "      <th>98064</th>\n",
       "      <td>indo rama</td>\n",
       "      <td>mill</td>\n",
       "      <td>0</td>\n",
       "      <td>1.000000</td>\n",
       "      <td>9.0</td>\n",
       "      <td>5</td>\n",
       "      <td>25</td>\n",
       "      <td>4</td>\n",
       "      <td>2</td>\n",
       "      <td>36</td>\n",
       "      <td>13</td>\n",
       "      <td>5</td>\n",
       "      <td>0.428571</td>\n",
       "      <td>0.243243</td>\n",
       "      <td>0.054054</td>\n",
       "      <td>5.5</td>\n",
       "      <td>25.495098</td>\n",
       "      <td>0.148649</td>\n",
       "      <td>0.392857</td>\n",
       "    </tr>\n",
       "    <tr>\n",
       "      <th>87462</th>\n",
       "      <td>foshan sanshui sanlian</td>\n",
       "      <td></td>\n",
       "      <td>0</td>\n",
       "      <td>1.000000</td>\n",
       "      <td>22.0</td>\n",
       "      <td>0</td>\n",
       "      <td>0</td>\n",
       "      <td>0</td>\n",
       "      <td>0</td>\n",
       "      <td>0</td>\n",
       "      <td>22</td>\n",
       "      <td>22</td>\n",
       "      <td>1.000000</td>\n",
       "      <td>22.000000</td>\n",
       "      <td>0.000000</td>\n",
       "      <td>11.0</td>\n",
       "      <td>0.000000</td>\n",
       "      <td>11.000000</td>\n",
       "      <td>0.478261</td>\n",
       "    </tr>\n",
       "    <tr>\n",
       "      <th>485274</th>\n",
       "      <td>sspl</td>\n",
       "      <td>top</td>\n",
       "      <td>0</td>\n",
       "      <td>0.750000</td>\n",
       "      <td>3.0</td>\n",
       "      <td>3</td>\n",
       "      <td>6</td>\n",
       "      <td>2</td>\n",
       "      <td>1</td>\n",
       "      <td>12</td>\n",
       "      <td>7</td>\n",
       "      <td>1</td>\n",
       "      <td>0.250000</td>\n",
       "      <td>0.230769</td>\n",
       "      <td>0.076923</td>\n",
       "      <td>2.5</td>\n",
       "      <td>6.708204</td>\n",
       "      <td>0.192308</td>\n",
       "      <td>0.312500</td>\n",
       "    </tr>\n",
       "    <tr>\n",
       "      <th>96181</th>\n",
       "      <td>hongdan</td>\n",
       "      <td>han gia</td>\n",
       "      <td>0</td>\n",
       "      <td>0.571429</td>\n",
       "      <td>4.0</td>\n",
       "      <td>19</td>\n",
       "      <td>21</td>\n",
       "      <td>3</td>\n",
       "      <td>6</td>\n",
       "      <td>49</td>\n",
       "      <td>14</td>\n",
       "      <td>0</td>\n",
       "      <td>0.066667</td>\n",
       "      <td>0.080000</td>\n",
       "      <td>0.120000</td>\n",
       "      <td>3.0</td>\n",
       "      <td>28.319605</td>\n",
       "      <td>0.060000</td>\n",
       "      <td>0.200000</td>\n",
       "    </tr>\n",
       "    <tr>\n",
       "      <th>199205</th>\n",
       "      <td>xpartes</td>\n",
       "      <td></td>\n",
       "      <td>0</td>\n",
       "      <td>1.000000</td>\n",
       "      <td>7.0</td>\n",
       "      <td>0</td>\n",
       "      <td>0</td>\n",
       "      <td>0</td>\n",
       "      <td>0</td>\n",
       "      <td>0</td>\n",
       "      <td>7</td>\n",
       "      <td>7</td>\n",
       "      <td>1.000000</td>\n",
       "      <td>7.000000</td>\n",
       "      <td>0.000000</td>\n",
       "      <td>3.5</td>\n",
       "      <td>0.000000</td>\n",
       "      <td>3.500000</td>\n",
       "      <td>0.437500</td>\n",
       "    </tr>\n",
       "  </tbody>\n",
       "</table>\n",
       "</div>"
      ],
      "text/plain": [
       "                                name_1           name_2  is_duplicate  \\\n",
       "pair_id                                                                 \n",
       "126411           pico rivera warehouse                              0   \n",
       "434304                         alibesa  synthos kralupy             0   \n",
       "444810                                              msl             0   \n",
       "470218                            breg       trelleborg             0   \n",
       "422272   cerealsoilsfoodstuffs foreign          foreign             0   \n",
       "98064                        indo rama             mill             0   \n",
       "87462           foshan sanshui sanlian                              0   \n",
       "485274                            sspl              top             0   \n",
       "96181                          hongdan          han gia             0   \n",
       "199205                         xpartes                              0   \n",
       "\n",
       "         norm_levenshtein_proc  levenshtein_proc  num_ins_proc  num_del_proc  \\\n",
       "pair_id                                                                        \n",
       "126411                1.000000              21.0             0             0   \n",
       "434304                0.866667              13.0            68            21   \n",
       "444810                1.000000               3.0             0             0   \n",
       "470218                0.700000               7.0            26             6   \n",
       "422272                0.758621              22.0            28           150   \n",
       "98064                 1.000000               9.0             5            25   \n",
       "87462                 1.000000              22.0             0             0   \n",
       "485274                0.750000               3.0             3             6   \n",
       "96181                 0.571429               4.0            19            21   \n",
       "199205                1.000000               7.0             0             0   \n",
       "\n",
       "         num_sub_proc  num_equals_proc  len_prod_proc  len_sum_proc  \\\n",
       "pair_id                                                               \n",
       "126411              0                0              0            21   \n",
       "434304             11                5            105            22   \n",
       "444810              0                0              0             3   \n",
       "470218              2                6             40            14   \n",
       "422272              8               17            203            36   \n",
       "98064               4                2             36            13   \n",
       "87462               0                0              0            22   \n",
       "485274              2                1             12             7   \n",
       "96181               3                6             49            14   \n",
       "199205              0                0              0             7   \n",
       "\n",
       "         len_diff_proc  len_ratio_proc  levenstein_len_prod_ratio_proc  \\\n",
       "pair_id                                                                  \n",
       "126411              21        1.000000                       21.000000   \n",
       "434304               8        0.391304                        0.122642   \n",
       "444810               3        1.000000                        3.000000   \n",
       "470218               6        0.466667                        0.170732   \n",
       "422272              22        0.621622                        0.107843   \n",
       "98064                5        0.428571                        0.243243   \n",
       "87462               22        1.000000                       22.000000   \n",
       "485274               1        0.250000                        0.230769   \n",
       "96181                0        0.066667                        0.080000   \n",
       "199205               7        1.000000                        7.000000   \n",
       "\n",
       "         equals_len_prod_ratio_proc  weighted_lev  norm_ins_del  \\\n",
       "pair_id                                                           \n",
       "126411                     0.000000          10.5      0.000000   \n",
       "434304                     0.047170           9.0     71.168813   \n",
       "444810                     0.000000           1.5      0.000000   \n",
       "470218                     0.146341           4.0     26.683328   \n",
       "422272                     0.083333          11.0    152.590956   \n",
       "98064                      0.054054           5.5     25.495098   \n",
       "87462                      0.000000          11.0      0.000000   \n",
       "485274                     0.076923           2.5      6.708204   \n",
       "96181                      0.120000           3.0     28.319605   \n",
       "199205                     0.000000           3.5      0.000000   \n",
       "\n",
       "         norm_weighted_lev  norm_weighted_lev_sum  \n",
       "pair_id                                            \n",
       "126411           10.500000               0.477273  \n",
       "434304            0.084906               0.391304  \n",
       "444810            1.500000               0.375000  \n",
       "470218            0.097561               0.266667  \n",
       "422272            0.053922               0.297297  \n",
       "98064             0.148649               0.392857  \n",
       "87462            11.000000               0.478261  \n",
       "485274            0.192308               0.312500  \n",
       "96181             0.060000               0.200000  \n",
       "199205            3.500000               0.437500  "
      ]
     },
     "execution_count": 106,
     "metadata": {},
     "output_type": "execute_result"
    }
   ],
   "source": [
    "train[train.is_duplicate == 0].sample(10)"
   ]
  },
  {
   "cell_type": "code",
   "execution_count": 107,
   "metadata": {},
   "outputs": [
    {
     "data": {
      "text/html": [
       "<div>\n",
       "<style scoped>\n",
       "    .dataframe tbody tr th:only-of-type {\n",
       "        vertical-align: middle;\n",
       "    }\n",
       "\n",
       "    .dataframe tbody tr th {\n",
       "        vertical-align: top;\n",
       "    }\n",
       "\n",
       "    .dataframe thead th {\n",
       "        text-align: right;\n",
       "    }\n",
       "</style>\n",
       "<table border=\"1\" class=\"dataframe\">\n",
       "  <thead>\n",
       "    <tr style=\"text-align: right;\">\n",
       "      <th></th>\n",
       "      <th>is_duplicate</th>\n",
       "      <th>norm_levenshtein_proc</th>\n",
       "      <th>levenshtein_proc</th>\n",
       "      <th>num_ins_proc</th>\n",
       "      <th>num_del_proc</th>\n",
       "      <th>num_sub_proc</th>\n",
       "      <th>num_equals_proc</th>\n",
       "      <th>len_prod_proc</th>\n",
       "      <th>len_sum_proc</th>\n",
       "      <th>len_diff_proc</th>\n",
       "      <th>len_ratio_proc</th>\n",
       "      <th>levenstein_len_prod_ratio_proc</th>\n",
       "      <th>equals_len_prod_ratio_proc</th>\n",
       "      <th>weighted_lev</th>\n",
       "      <th>norm_ins_del</th>\n",
       "      <th>norm_weighted_lev</th>\n",
       "      <th>norm_weighted_lev_sum</th>\n",
       "    </tr>\n",
       "  </thead>\n",
       "  <tbody>\n",
       "    <tr>\n",
       "      <th>count</th>\n",
       "      <td>3658.0</td>\n",
       "      <td>3658.000000</td>\n",
       "      <td>3658.000000</td>\n",
       "      <td>3658.000000</td>\n",
       "      <td>3658.000000</td>\n",
       "      <td>3658.000000</td>\n",
       "      <td>3658.000000</td>\n",
       "      <td>3658.000000</td>\n",
       "      <td>3658.000000</td>\n",
       "      <td>3658.000000</td>\n",
       "      <td>3658.000000</td>\n",
       "      <td>3658.000000</td>\n",
       "      <td>3658.000000</td>\n",
       "      <td>3658.000000</td>\n",
       "      <td>3658.000000</td>\n",
       "      <td>3658.000000</td>\n",
       "      <td>3658.000000</td>\n",
       "    </tr>\n",
       "    <tr>\n",
       "      <th>mean</th>\n",
       "      <td>1.0</td>\n",
       "      <td>0.347065</td>\n",
       "      <td>5.840897</td>\n",
       "      <td>60.344177</td>\n",
       "      <td>57.299617</td>\n",
       "      <td>1.812192</td>\n",
       "      <td>13.009568</td>\n",
       "      <td>132.465555</td>\n",
       "      <td>20.796063</td>\n",
       "      <td>5.214325</td>\n",
       "      <td>0.331019</td>\n",
       "      <td>0.597346</td>\n",
       "      <td>0.115762</td>\n",
       "      <td>3.104155</td>\n",
       "      <td>90.037488</td>\n",
       "      <td>0.299965</td>\n",
       "      <td>0.127023</td>\n",
       "    </tr>\n",
       "    <tr>\n",
       "      <th>std</th>\n",
       "      <td>0.0</td>\n",
       "      <td>0.335900</td>\n",
       "      <td>6.861404</td>\n",
       "      <td>86.524369</td>\n",
       "      <td>88.749394</td>\n",
       "      <td>5.905230</td>\n",
       "      <td>13.261001</td>\n",
       "      <td>171.970112</td>\n",
       "      <td>12.991782</td>\n",
       "      <td>6.646592</td>\n",
       "      <td>0.306581</td>\n",
       "      <td>2.199098</td>\n",
       "      <td>0.072361</td>\n",
       "      <td>3.600118</td>\n",
       "      <td>119.081966</td>\n",
       "      <td>1.099279</td>\n",
       "      <td>0.134955</td>\n",
       "    </tr>\n",
       "    <tr>\n",
       "      <th>min</th>\n",
       "      <td>1.0</td>\n",
       "      <td>0.000000</td>\n",
       "      <td>0.000000</td>\n",
       "      <td>0.000000</td>\n",
       "      <td>0.000000</td>\n",
       "      <td>0.000000</td>\n",
       "      <td>0.000000</td>\n",
       "      <td>0.000000</td>\n",
       "      <td>0.000000</td>\n",
       "      <td>0.000000</td>\n",
       "      <td>0.009174</td>\n",
       "      <td>0.000000</td>\n",
       "      <td>0.000000</td>\n",
       "      <td>0.000000</td>\n",
       "      <td>0.000000</td>\n",
       "      <td>0.000000</td>\n",
       "      <td>0.000000</td>\n",
       "    </tr>\n",
       "    <tr>\n",
       "      <th>25%</th>\n",
       "      <td>1.0</td>\n",
       "      <td>0.000000</td>\n",
       "      <td>0.000000</td>\n",
       "      <td>6.000000</td>\n",
       "      <td>6.000000</td>\n",
       "      <td>0.000000</td>\n",
       "      <td>4.000000</td>\n",
       "      <td>25.000000</td>\n",
       "      <td>11.000000</td>\n",
       "      <td>0.000000</td>\n",
       "      <td>0.076923</td>\n",
       "      <td>0.000000</td>\n",
       "      <td>0.082305</td>\n",
       "      <td>0.000000</td>\n",
       "      <td>14.142136</td>\n",
       "      <td>0.000000</td>\n",
       "      <td>0.000000</td>\n",
       "    </tr>\n",
       "    <tr>\n",
       "      <th>50%</th>\n",
       "      <td>1.0</td>\n",
       "      <td>0.352941</td>\n",
       "      <td>5.000000</td>\n",
       "      <td>33.000000</td>\n",
       "      <td>27.000000</td>\n",
       "      <td>0.000000</td>\n",
       "      <td>10.000000</td>\n",
       "      <td>81.000000</td>\n",
       "      <td>19.500000</td>\n",
       "      <td>4.000000</td>\n",
       "      <td>0.238095</td>\n",
       "      <td>0.028249</td>\n",
       "      <td>0.104762</td>\n",
       "      <td>2.500000</td>\n",
       "      <td>55.681699</td>\n",
       "      <td>0.016447</td>\n",
       "      <td>0.113636</td>\n",
       "    </tr>\n",
       "    <tr>\n",
       "      <th>75%</th>\n",
       "      <td>1.0</td>\n",
       "      <td>0.600000</td>\n",
       "      <td>10.000000</td>\n",
       "      <td>73.000000</td>\n",
       "      <td>66.000000</td>\n",
       "      <td>0.000000</td>\n",
       "      <td>19.000000</td>\n",
       "      <td>187.000000</td>\n",
       "      <td>30.000000</td>\n",
       "      <td>9.000000</td>\n",
       "      <td>0.466667</td>\n",
       "      <td>0.079509</td>\n",
       "      <td>0.153846</td>\n",
       "      <td>5.000000</td>\n",
       "      <td>127.953116</td>\n",
       "      <td>0.041096</td>\n",
       "      <td>0.206897</td>\n",
       "    </tr>\n",
       "    <tr>\n",
       "      <th>max</th>\n",
       "      <td>1.0</td>\n",
       "      <td>1.000000</td>\n",
       "      <td>77.000000</td>\n",
       "      <td>1447.000000</td>\n",
       "      <td>2538.000000</td>\n",
       "      <td>148.000000</td>\n",
       "      <td>206.000000</td>\n",
       "      <td>3690.000000</td>\n",
       "      <td>127.000000</td>\n",
       "      <td>77.000000</td>\n",
       "      <td>1.000000</td>\n",
       "      <td>20.000000</td>\n",
       "      <td>0.500000</td>\n",
       "      <td>38.500000</td>\n",
       "      <td>2707.873705</td>\n",
       "      <td>10.000000</td>\n",
       "      <td>0.476190</td>\n",
       "    </tr>\n",
       "  </tbody>\n",
       "</table>\n",
       "</div>"
      ],
      "text/plain": [
       "       is_duplicate  norm_levenshtein_proc  levenshtein_proc  num_ins_proc  \\\n",
       "count        3658.0            3658.000000       3658.000000   3658.000000   \n",
       "mean            1.0               0.347065          5.840897     60.344177   \n",
       "std             0.0               0.335900          6.861404     86.524369   \n",
       "min             1.0               0.000000          0.000000      0.000000   \n",
       "25%             1.0               0.000000          0.000000      6.000000   \n",
       "50%             1.0               0.352941          5.000000     33.000000   \n",
       "75%             1.0               0.600000         10.000000     73.000000   \n",
       "max             1.0               1.000000         77.000000   1447.000000   \n",
       "\n",
       "       num_del_proc  num_sub_proc  num_equals_proc  len_prod_proc  \\\n",
       "count   3658.000000   3658.000000      3658.000000    3658.000000   \n",
       "mean      57.299617      1.812192        13.009568     132.465555   \n",
       "std       88.749394      5.905230        13.261001     171.970112   \n",
       "min        0.000000      0.000000         0.000000       0.000000   \n",
       "25%        6.000000      0.000000         4.000000      25.000000   \n",
       "50%       27.000000      0.000000        10.000000      81.000000   \n",
       "75%       66.000000      0.000000        19.000000     187.000000   \n",
       "max     2538.000000    148.000000       206.000000    3690.000000   \n",
       "\n",
       "       len_sum_proc  len_diff_proc  len_ratio_proc  \\\n",
       "count   3658.000000    3658.000000     3658.000000   \n",
       "mean      20.796063       5.214325        0.331019   \n",
       "std       12.991782       6.646592        0.306581   \n",
       "min        0.000000       0.000000        0.009174   \n",
       "25%       11.000000       0.000000        0.076923   \n",
       "50%       19.500000       4.000000        0.238095   \n",
       "75%       30.000000       9.000000        0.466667   \n",
       "max      127.000000      77.000000        1.000000   \n",
       "\n",
       "       levenstein_len_prod_ratio_proc  equals_len_prod_ratio_proc  \\\n",
       "count                     3658.000000                 3658.000000   \n",
       "mean                         0.597346                    0.115762   \n",
       "std                          2.199098                    0.072361   \n",
       "min                          0.000000                    0.000000   \n",
       "25%                          0.000000                    0.082305   \n",
       "50%                          0.028249                    0.104762   \n",
       "75%                          0.079509                    0.153846   \n",
       "max                         20.000000                    0.500000   \n",
       "\n",
       "       weighted_lev  norm_ins_del  norm_weighted_lev  norm_weighted_lev_sum  \n",
       "count   3658.000000   3658.000000        3658.000000            3658.000000  \n",
       "mean       3.104155     90.037488           0.299965               0.127023  \n",
       "std        3.600118    119.081966           1.099279               0.134955  \n",
       "min        0.000000      0.000000           0.000000               0.000000  \n",
       "25%        0.000000     14.142136           0.000000               0.000000  \n",
       "50%        2.500000     55.681699           0.016447               0.113636  \n",
       "75%        5.000000    127.953116           0.041096               0.206897  \n",
       "max       38.500000   2707.873705          10.000000               0.476190  "
      ]
     },
     "execution_count": 107,
     "metadata": {},
     "output_type": "execute_result"
    }
   ],
   "source": [
    "train[train.is_duplicate == 1].describe()"
   ]
  },
  {
   "cell_type": "code",
   "execution_count": 108,
   "metadata": {},
   "outputs": [
    {
     "data": {
      "text/html": [
       "<div>\n",
       "<style scoped>\n",
       "    .dataframe tbody tr th:only-of-type {\n",
       "        vertical-align: middle;\n",
       "    }\n",
       "\n",
       "    .dataframe tbody tr th {\n",
       "        vertical-align: top;\n",
       "    }\n",
       "\n",
       "    .dataframe thead th {\n",
       "        text-align: right;\n",
       "    }\n",
       "</style>\n",
       "<table border=\"1\" class=\"dataframe\">\n",
       "  <thead>\n",
       "    <tr style=\"text-align: right;\">\n",
       "      <th></th>\n",
       "      <th>is_duplicate</th>\n",
       "      <th>norm_levenshtein_proc</th>\n",
       "      <th>levenshtein_proc</th>\n",
       "      <th>num_ins_proc</th>\n",
       "      <th>num_del_proc</th>\n",
       "      <th>num_sub_proc</th>\n",
       "      <th>num_equals_proc</th>\n",
       "      <th>len_prod_proc</th>\n",
       "      <th>len_sum_proc</th>\n",
       "      <th>len_diff_proc</th>\n",
       "      <th>len_ratio_proc</th>\n",
       "      <th>levenstein_len_prod_ratio_proc</th>\n",
       "      <th>equals_len_prod_ratio_proc</th>\n",
       "      <th>weighted_lev</th>\n",
       "      <th>norm_ins_del</th>\n",
       "      <th>norm_weighted_lev</th>\n",
       "      <th>norm_weighted_lev_sum</th>\n",
       "    </tr>\n",
       "  </thead>\n",
       "  <tbody>\n",
       "    <tr>\n",
       "      <th>count</th>\n",
       "      <td>494161.0</td>\n",
       "      <td>494161.000000</td>\n",
       "      <td>494161.000000</td>\n",
       "      <td>494161.000000</td>\n",
       "      <td>494161.00000</td>\n",
       "      <td>494161.000000</td>\n",
       "      <td>494161.000000</td>\n",
       "      <td>494161.000000</td>\n",
       "      <td>494161.000000</td>\n",
       "      <td>494161.000000</td>\n",
       "      <td>494161.000000</td>\n",
       "      <td>494161.000000</td>\n",
       "      <td>494161.000000</td>\n",
       "      <td>494161.000000</td>\n",
       "      <td>494161.000000</td>\n",
       "      <td>494161.000000</td>\n",
       "      <td>494161.000000</td>\n",
       "    </tr>\n",
       "    <tr>\n",
       "      <th>mean</th>\n",
       "      <td>0.0</td>\n",
       "      <td>0.875199</td>\n",
       "      <td>9.559648</td>\n",
       "      <td>19.560083</td>\n",
       "      <td>17.67479</td>\n",
       "      <td>4.279951</td>\n",
       "      <td>3.071440</td>\n",
       "      <td>44.586264</td>\n",
       "      <td>14.252610</td>\n",
       "      <td>7.249734</td>\n",
       "      <td>0.583644</td>\n",
       "      <td>3.118086</td>\n",
       "      <td>0.045146</td>\n",
       "      <td>5.636363</td>\n",
       "      <td>30.075238</td>\n",
       "      <td>1.579631</td>\n",
       "      <td>0.366424</td>\n",
       "    </tr>\n",
       "    <tr>\n",
       "      <th>std</th>\n",
       "      <td>0.0</td>\n",
       "      <td>0.186043</td>\n",
       "      <td>6.496370</td>\n",
       "      <td>39.134899</td>\n",
       "      <td>35.62904</td>\n",
       "      <td>5.816968</td>\n",
       "      <td>5.061945</td>\n",
       "      <td>71.888867</td>\n",
       "      <td>8.644963</td>\n",
       "      <td>6.853357</td>\n",
       "      <td>0.333916</td>\n",
       "      <td>5.731075</td>\n",
       "      <td>0.046895</td>\n",
       "      <td>3.416883</td>\n",
       "      <td>50.906223</td>\n",
       "      <td>2.855243</td>\n",
       "      <td>0.093399</td>\n",
       "    </tr>\n",
       "    <tr>\n",
       "      <th>min</th>\n",
       "      <td>0.0</td>\n",
       "      <td>0.000000</td>\n",
       "      <td>0.000000</td>\n",
       "      <td>0.000000</td>\n",
       "      <td>0.00000</td>\n",
       "      <td>0.000000</td>\n",
       "      <td>0.000000</td>\n",
       "      <td>0.000000</td>\n",
       "      <td>0.000000</td>\n",
       "      <td>0.000000</td>\n",
       "      <td>0.014493</td>\n",
       "      <td>0.000000</td>\n",
       "      <td>0.000000</td>\n",
       "      <td>0.000000</td>\n",
       "      <td>0.000000</td>\n",
       "      <td>0.000000</td>\n",
       "      <td>0.000000</td>\n",
       "    </tr>\n",
       "    <tr>\n",
       "      <th>25%</th>\n",
       "      <td>0.0</td>\n",
       "      <td>0.826087</td>\n",
       "      <td>5.000000</td>\n",
       "      <td>0.000000</td>\n",
       "      <td>0.00000</td>\n",
       "      <td>0.000000</td>\n",
       "      <td>0.000000</td>\n",
       "      <td>0.000000</td>\n",
       "      <td>8.000000</td>\n",
       "      <td>2.000000</td>\n",
       "      <td>0.285714</td>\n",
       "      <td>0.140496</td>\n",
       "      <td>0.000000</td>\n",
       "      <td>3.500000</td>\n",
       "      <td>0.000000</td>\n",
       "      <td>0.095238</td>\n",
       "      <td>0.325000</td>\n",
       "    </tr>\n",
       "    <tr>\n",
       "      <th>50%</th>\n",
       "      <td>0.0</td>\n",
       "      <td>0.916667</td>\n",
       "      <td>8.000000</td>\n",
       "      <td>8.000000</td>\n",
       "      <td>6.00000</td>\n",
       "      <td>3.000000</td>\n",
       "      <td>2.000000</td>\n",
       "      <td>28.000000</td>\n",
       "      <td>13.000000</td>\n",
       "      <td>5.000000</td>\n",
       "      <td>0.529412</td>\n",
       "      <td>0.238095</td>\n",
       "      <td>0.040816</td>\n",
       "      <td>5.000000</td>\n",
       "      <td>17.204651</td>\n",
       "      <td>0.153061</td>\n",
       "      <td>0.380952</td>\n",
       "    </tr>\n",
       "    <tr>\n",
       "      <th>75%</th>\n",
       "      <td>0.0</td>\n",
       "      <td>1.000000</td>\n",
       "      <td>12.000000</td>\n",
       "      <td>23.000000</td>\n",
       "      <td>20.00000</td>\n",
       "      <td>6.000000</td>\n",
       "      <td>4.000000</td>\n",
       "      <td>60.000000</td>\n",
       "      <td>18.000000</td>\n",
       "      <td>10.000000</td>\n",
       "      <td>1.000000</td>\n",
       "      <td>5.000000</td>\n",
       "      <td>0.076923</td>\n",
       "      <td>7.000000</td>\n",
       "      <td>39.623226</td>\n",
       "      <td>2.500000</td>\n",
       "      <td>0.437500</td>\n",
       "    </tr>\n",
       "    <tr>\n",
       "      <th>max</th>\n",
       "      <td>0.0</td>\n",
       "      <td>1.000000</td>\n",
       "      <td>121.000000</td>\n",
       "      <td>4003.000000</td>\n",
       "      <td>2782.00000</td>\n",
       "      <td>306.000000</td>\n",
       "      <td>307.000000</td>\n",
       "      <td>5445.000000</td>\n",
       "      <td>166.000000</td>\n",
       "      <td>121.000000</td>\n",
       "      <td>1.000000</td>\n",
       "      <td>121.000000</td>\n",
       "      <td>0.500000</td>\n",
       "      <td>61.000000</td>\n",
       "      <td>4087.939579</td>\n",
       "      <td>60.500000</td>\n",
       "      <td>0.495902</td>\n",
       "    </tr>\n",
       "  </tbody>\n",
       "</table>\n",
       "</div>"
      ],
      "text/plain": [
       "       is_duplicate  norm_levenshtein_proc  levenshtein_proc   num_ins_proc  \\\n",
       "count      494161.0          494161.000000     494161.000000  494161.000000   \n",
       "mean            0.0               0.875199          9.559648      19.560083   \n",
       "std             0.0               0.186043          6.496370      39.134899   \n",
       "min             0.0               0.000000          0.000000       0.000000   \n",
       "25%             0.0               0.826087          5.000000       0.000000   \n",
       "50%             0.0               0.916667          8.000000       8.000000   \n",
       "75%             0.0               1.000000         12.000000      23.000000   \n",
       "max             0.0               1.000000        121.000000    4003.000000   \n",
       "\n",
       "       num_del_proc   num_sub_proc  num_equals_proc  len_prod_proc  \\\n",
       "count  494161.00000  494161.000000    494161.000000  494161.000000   \n",
       "mean       17.67479       4.279951         3.071440      44.586264   \n",
       "std        35.62904       5.816968         5.061945      71.888867   \n",
       "min         0.00000       0.000000         0.000000       0.000000   \n",
       "25%         0.00000       0.000000         0.000000       0.000000   \n",
       "50%         6.00000       3.000000         2.000000      28.000000   \n",
       "75%        20.00000       6.000000         4.000000      60.000000   \n",
       "max      2782.00000     306.000000       307.000000    5445.000000   \n",
       "\n",
       "        len_sum_proc  len_diff_proc  len_ratio_proc  \\\n",
       "count  494161.000000  494161.000000   494161.000000   \n",
       "mean       14.252610       7.249734        0.583644   \n",
       "std         8.644963       6.853357        0.333916   \n",
       "min         0.000000       0.000000        0.014493   \n",
       "25%         8.000000       2.000000        0.285714   \n",
       "50%        13.000000       5.000000        0.529412   \n",
       "75%        18.000000      10.000000        1.000000   \n",
       "max       166.000000     121.000000        1.000000   \n",
       "\n",
       "       levenstein_len_prod_ratio_proc  equals_len_prod_ratio_proc  \\\n",
       "count                   494161.000000               494161.000000   \n",
       "mean                         3.118086                    0.045146   \n",
       "std                          5.731075                    0.046895   \n",
       "min                          0.000000                    0.000000   \n",
       "25%                          0.140496                    0.000000   \n",
       "50%                          0.238095                    0.040816   \n",
       "75%                          5.000000                    0.076923   \n",
       "max                        121.000000                    0.500000   \n",
       "\n",
       "        weighted_lev   norm_ins_del  norm_weighted_lev  norm_weighted_lev_sum  \n",
       "count  494161.000000  494161.000000      494161.000000          494161.000000  \n",
       "mean        5.636363      30.075238           1.579631               0.366424  \n",
       "std         3.416883      50.906223           2.855243               0.093399  \n",
       "min         0.000000       0.000000           0.000000               0.000000  \n",
       "25%         3.500000       0.000000           0.095238               0.325000  \n",
       "50%         5.000000      17.204651           0.153061               0.380952  \n",
       "75%         7.000000      39.623226           2.500000               0.437500  \n",
       "max        61.000000    4087.939579          60.500000               0.495902  "
      ]
     },
     "execution_count": 108,
     "metadata": {},
     "output_type": "execute_result"
    }
   ],
   "source": [
    "train[train.is_duplicate == 0].describe()"
   ]
  },
  {
   "cell_type": "code",
   "execution_count": 109,
   "metadata": {},
   "outputs": [
    {
     "data": {
      "text/plain": [
       "Index(['name_1', 'name_2', 'is_duplicate', 'norm_levenshtein_proc',\n",
       "       'levenshtein_proc', 'num_ins_proc', 'num_del_proc', 'num_sub_proc',\n",
       "       'num_equals_proc', 'len_prod_proc', 'len_sum_proc', 'len_diff_proc',\n",
       "       'len_ratio_proc', 'levenstein_len_prod_ratio_proc',\n",
       "       'equals_len_prod_ratio_proc', 'weighted_lev', 'norm_ins_del',\n",
       "       'norm_weighted_lev', 'norm_weighted_lev_sum'],\n",
       "      dtype='object')"
      ]
     },
     "execution_count": 109,
     "metadata": {},
     "output_type": "execute_result"
    }
   ],
   "source": [
    "train.columns"
   ]
  },
  {
   "cell_type": "code",
   "execution_count": 110,
   "metadata": {},
   "outputs": [],
   "source": [
    "import matplotlib.pyplot as plt\n",
    "import seaborn as sns"
   ]
  },
  {
   "cell_type": "code",
   "execution_count": 111,
   "metadata": {},
   "outputs": [
    {
     "data": {
      "text/plain": [
       "<matplotlib.axes._subplots.AxesSubplot at 0x26486460>"
      ]
     },
     "execution_count": 111,
     "metadata": {},
     "output_type": "execute_result"
    },
    {
     "data": {
      "image/png": "[encoded data removed]",
      "text/plain": [
       "<Figure size 864x576 with 1 Axes>"
      ]
     },
     "metadata": {
      "needs_background": "dark"
     },
     "output_type": "display_data"
    }
   ],
   "source": [
    "plt.figure(figsize=[12, 8])\n",
    "sns.boxplot(data=train, x='is_duplicate', y='norm_weighted_lev_sum')"
   ]
  },
  {
   "cell_type": "code",
   "execution_count": 112,
   "metadata": {},
   "outputs": [
    {
     "data": {
      "text/plain": [
       "<matplotlib.axes._subplots.AxesSubplot at 0x24bb37c0>"
      ]
     },
     "execution_count": 112,
     "metadata": {},
     "output_type": "execute_result"
    },
    {
     "data": {
      "image/png": "[encoded data removed]",
      "text/plain": [
       "<Figure size 1080x720 with 1 Axes>"
      ]
     },
     "metadata": {
      "needs_background": "dark"
     },
     "output_type": "display_data"
    }
   ],
   "source": [
    "plt.figure(figsize=[15, 10])\n",
    "sns.boxplot(data=train, x='is_duplicate', y='norm_levenshtein_proc')"
   ]
  },
  {
   "cell_type": "code",
   "execution_count": 113,
   "metadata": {},
   "outputs": [
    {
     "data": {
      "text/plain": [
       "<matplotlib.axes._subplots.AxesSubplot at 0x24bb3a60>"
      ]
     },
     "execution_count": 113,
     "metadata": {},
     "output_type": "execute_result"
    },
    {
     "data": {
      "image/png": "[encoded data removed]",
      "text/plain": [
       "<Figure size 1080x720 with 1 Axes>"
      ]
     },
     "metadata": {
      "needs_background": "dark"
     },
     "output_type": "display_data"
    }
   ],
   "source": [
    "plt.figure(figsize=[15, 10])\n",
    "sns.boxplot(data=train, x='is_duplicate', y='norm_levenshtein_proc')"
   ]
  },
  {
   "cell_type": "code",
   "execution_count": 114,
   "metadata": {},
   "outputs": [
    {
     "data": {
      "text/plain": [
       "<matplotlib.axes._subplots.AxesSubplot at 0x24e3f910>"
      ]
     },
     "execution_count": 114,
     "metadata": {},
     "output_type": "execute_result"
    },
    {
     "data": {
      "image/png": "[encoded data removed]",
      "text/plain": [
       "<Figure size 1440x1080 with 1 Axes>"
      ]
     },
     "metadata": {
      "needs_background": "dark"
     },
     "output_type": "display_data"
    }
   ],
   "source": [
    "plt.figure(figsize=[20, 15])\n",
    "sns.scatterplot(data=train, x='num_sub_proc', y='norm_levenshtein_proc', hue='is_duplicate')"
   ]
  },
  {
   "cell_type": "markdown",
   "metadata": {},
   "source": [
    "# RF модель"
   ]
  },
  {
   "cell_type": "code",
   "execution_count": null,
   "metadata": {},
   "outputs": [],
   "source": [
    "#from sklearn.model_selection import GridSearchCV"
   ]
  },
  {
   "cell_type": "code",
   "execution_count": 153,
   "metadata": {},
   "outputs": [],
   "source": [
    "#clf = RandomForestClassifier(class_weight='balanced', random_state=RS)\n",
    "#params = {'n_estimators': [100, 200, 300],\n",
    "#          'max_depth':[10, 12, 15],\n",
    "#          'min_samples_split': range(2,7,2), \n",
    "#          'min_samples_leaf': range(1,4),\n",
    "#          'max_features': ['auto', 2]}\n",
    "#gscv = GridSearchCV(clf, param_grid=params, scoring='roc_auc', cv=5, n_jobs=-1)"
   ]
  },
  {
   "cell_type": "code",
   "execution_count": null,
   "metadata": {},
   "outputs": [],
   "source": [
    "#gscv.fit(train[FTS].values, train[\"is_duplicate\"].values)"
   ]
  },
  {
   "cell_type": "code",
   "execution_count": 122,
   "metadata": {},
   "outputs": [],
   "source": [
    "#gscv.best_estimator_"
   ]
  },
  {
   "cell_type": "code",
   "execution_count": 123,
   "metadata": {},
   "outputs": [],
   "source": [
    "#gscv.best_score_"
   ]
  },
  {
   "cell_type": "code",
   "execution_count": 124,
   "metadata": {},
   "outputs": [],
   "source": [
    "#model = gscv.best_estimator_"
   ]
  },
  {
   "cell_type": "code",
   "execution_count": 125,
   "metadata": {},
   "outputs": [],
   "source": [
    "###"
   ]
  },
  {
   "cell_type": "code",
   "execution_count": 126,
   "metadata": {},
   "outputs": [],
   "source": [
    "FTS = ['norm_levenshtein_proc','num_equals_proc', 'num_sub_proc', 'norm_weighted_lev_sum',\n",
    "       'equals_len_prod_ratio_proc', 'len_prod_proc', 'norm_weighted_lev', 'norm_ins_del']\n",
    "THR = 0.9"
   ]
  },
  {
   "cell_type": "code",
   "execution_count": 141,
   "metadata": {},
   "outputs": [],
   "source": [
    "split = StratifiedShuffleSplit(1, train_size=0.7, random_state=RS)\n",
    "tridx, cvidx = list(split.split(train[FTS], train[\"is_duplicate\"]))[0]"
   ]
  },
  {
   "cell_type": "code",
   "execution_count": 142,
   "metadata": {},
   "outputs": [
    {
     "data": {
      "text/plain": [
       "RandomForestClassifier(class_weight='balanced', max_depth=12,\n",
       "                       min_samples_leaf=3, n_estimators=300, random_state=7345)"
      ]
     },
     "execution_count": 142,
     "metadata": {},
     "output_type": "execute_result"
    }
   ],
   "source": [
    "model = RandomForestClassifier(class_weight='balanced', max_depth=12,\n",
    "                               min_samples_leaf=3, random_state=RS)\n",
    "model.fit(train.iloc[tridx][FTS].values,\n",
    "          train.iloc[tridx][\"is_duplicate\"].values)"
   ]
  },
  {
   "cell_type": "code",
   "execution_count": 143,
   "metadata": {},
   "outputs": [],
   "source": [
    "tr_preds = model.predict_proba(train.iloc[tridx][FTS].values)\n",
    "cv_preds = model.predict_proba(train.iloc[cvidx][FTS].values)"
   ]
  },
  {
   "cell_type": "code",
   "execution_count": 144,
   "metadata": {},
   "outputs": [],
   "source": [
    "tr_preds = (tr_preds[:, 1] > THR).astype(np.int)\n",
    "cv_preds = (cv_preds[:, 1] > THR).astype(np.int)"
   ]
  },
  {
   "cell_type": "code",
   "execution_count": 145,
   "metadata": {},
   "outputs": [
    {
     "name": "stdout",
     "output_type": "stream",
     "text": [
      "              precision    recall  f1-score   support\n",
      "\n",
      "           0       1.00      1.00      1.00    345912\n",
      "           1       0.77      0.77      0.77      2561\n",
      "\n",
      "    accuracy                           1.00    348473\n",
      "   macro avg       0.89      0.88      0.88    348473\n",
      "weighted avg       1.00      1.00      1.00    348473\n",
      "\n"
     ]
    }
   ],
   "source": [
    "print(classification_report(train.iloc[tridx][\"is_duplicate\"].values, tr_preds))"
   ]
  },
  {
   "cell_type": "code",
   "execution_count": 146,
   "metadata": {},
   "outputs": [
    {
     "name": "stdout",
     "output_type": "stream",
     "text": [
      "              precision    recall  f1-score   support\n",
      "\n",
      "           0       1.00      1.00      1.00    148249\n",
      "           1       0.76      0.73      0.75      1097\n",
      "\n",
      "    accuracy                           1.00    149346\n",
      "   macro avg       0.88      0.86      0.87    149346\n",
      "weighted avg       1.00      1.00      1.00    149346\n",
      "\n"
     ]
    }
   ],
   "source": [
    "print(classification_report(train.iloc[cvidx][\"is_duplicate\"].values, cv_preds))"
   ]
  },
  {
   "cell_type": "code",
   "execution_count": 147,
   "metadata": {},
   "outputs": [
    {
     "name": "stdout",
     "output_type": "stream",
     "text": [
      "0.7712495103799453\n",
      "0.7458100558659219\n"
     ]
    }
   ],
   "source": [
    "print(f1_score(train.iloc[tridx][\"is_duplicate\"].values, tr_preds))\n",
    "print(f1_score(train.iloc[cvidx][\"is_duplicate\"].values, cv_preds))"
   ]
  },
  {
   "cell_type": "code",
   "execution_count": 148,
   "metadata": {},
   "outputs": [
    {
     "data": {
      "text/plain": [
       "<matplotlib.axes._subplots.AxesSubplot at 0x259c0e20>"
      ]
     },
     "execution_count": 148,
     "metadata": {},
     "output_type": "execute_result"
    },
    {
     "data": {
      "image/png": "[encoded data removed]",
      "text/plain": [
       "<Figure size 864x576 with 1 Axes>"
      ]
     },
     "metadata": {
      "needs_background": "dark"
     },
     "output_type": "display_data"
    }
   ],
   "source": [
    "imp = pd.DataFrame(model.feature_importances_, index=FTS, columns=['importance'])\n",
    "imp.sort_values('importance').plot(kind='barh', figsize=(12, 8))"
   ]
  },
  {
   "cell_type": "markdown",
   "metadata": {},
   "source": [
    "# Генерация сабмита"
   ]
  },
  {
   "cell_type": "code",
   "execution_count": 135,
   "metadata": {},
   "outputs": [],
   "source": [
    "#best_model = gscv.best_estimator_"
   ]
  },
  {
   "cell_type": "code",
   "execution_count": 136,
   "metadata": {},
   "outputs": [],
   "source": [
    "sample_sub = pd.read_csv(\"sample_submission.csv\", index_col=\"pair_id\")"
   ]
  },
  {
   "cell_type": "code",
   "execution_count": 137,
   "metadata": {},
   "outputs": [
    {
     "data": {
      "text/html": [
       "<div>\n",
       "<style scoped>\n",
       "    .dataframe tbody tr th:only-of-type {\n",
       "        vertical-align: middle;\n",
       "    }\n",
       "\n",
       "    .dataframe tbody tr th {\n",
       "        vertical-align: top;\n",
       "    }\n",
       "\n",
       "    .dataframe thead th {\n",
       "        text-align: right;\n",
       "    }\n",
       "</style>\n",
       "<table border=\"1\" class=\"dataframe\">\n",
       "  <thead>\n",
       "    <tr style=\"text-align: right;\">\n",
       "      <th></th>\n",
       "      <th>is_duplicate</th>\n",
       "    </tr>\n",
       "    <tr>\n",
       "      <th>pair_id</th>\n",
       "      <th></th>\n",
       "    </tr>\n",
       "  </thead>\n",
       "  <tbody>\n",
       "    <tr>\n",
       "      <th>1</th>\n",
       "      <td>1</td>\n",
       "    </tr>\n",
       "    <tr>\n",
       "      <th>2</th>\n",
       "      <td>1</td>\n",
       "    </tr>\n",
       "    <tr>\n",
       "      <th>3</th>\n",
       "      <td>1</td>\n",
       "    </tr>\n",
       "    <tr>\n",
       "      <th>4</th>\n",
       "      <td>1</td>\n",
       "    </tr>\n",
       "    <tr>\n",
       "      <th>5</th>\n",
       "      <td>1</td>\n",
       "    </tr>\n",
       "    <tr>\n",
       "      <th>...</th>\n",
       "      <td>...</td>\n",
       "    </tr>\n",
       "    <tr>\n",
       "      <th>213245</th>\n",
       "      <td>1</td>\n",
       "    </tr>\n",
       "    <tr>\n",
       "      <th>213246</th>\n",
       "      <td>1</td>\n",
       "    </tr>\n",
       "    <tr>\n",
       "      <th>213247</th>\n",
       "      <td>1</td>\n",
       "    </tr>\n",
       "    <tr>\n",
       "      <th>213248</th>\n",
       "      <td>1</td>\n",
       "    </tr>\n",
       "    <tr>\n",
       "      <th>213249</th>\n",
       "      <td>1</td>\n",
       "    </tr>\n",
       "  </tbody>\n",
       "</table>\n",
       "<p>213249 rows × 1 columns</p>\n",
       "</div>"
      ],
      "text/plain": [
       "         is_duplicate\n",
       "pair_id              \n",
       "1                   1\n",
       "2                   1\n",
       "3                   1\n",
       "4                   1\n",
       "5                   1\n",
       "...               ...\n",
       "213245              1\n",
       "213246              1\n",
       "213247              1\n",
       "213248              1\n",
       "213249              1\n",
       "\n",
       "[213249 rows x 1 columns]"
      ]
     },
     "execution_count": 137,
     "metadata": {},
     "output_type": "execute_result"
    }
   ],
   "source": [
    "sample_sub"
   ]
  },
  {
   "cell_type": "code",
   "execution_count": 149,
   "metadata": {},
   "outputs": [],
   "source": [
    "sample_sub[\"is_duplicate\"] = (model.predict_proba(test[FTS].values)[:, 1] > THR).astype(np.int)"
   ]
  },
  {
   "cell_type": "code",
   "execution_count": 150,
   "metadata": {},
   "outputs": [
    {
     "data": {
      "text/plain": [
       "0    212150\n",
       "1      1099\n",
       "Name: is_duplicate, dtype: int64"
      ]
     },
     "execution_count": 150,
     "metadata": {},
     "output_type": "execute_result"
    }
   ],
   "source": [
    "sample_sub.is_duplicate.value_counts()"
   ]
  },
  {
   "cell_type": "code",
   "execution_count": 151,
   "metadata": {},
   "outputs": [],
   "source": [
    "sample_sub.to_csv(\"baseline_submission.csv\")"
   ]
  },
  {
   "cell_type": "code",
   "execution_count": null,
   "metadata": {},
   "outputs": [],
   "source": []
  }
 ],
 "metadata": {
  "kernelspec": {
   "display_name": "Python 3",
   "language": "python",
   "name": "python3"
  },
  "language_info": {
   "codemirror_mode": {
    "name": "ipython",
    "version": 3
   },
   "file_extension": ".py",
   "mimetype": "text/x-python",
   "name": "python",
   "nbconvert_exporter": "python",
   "pygments_lexer": "ipython3",
   "version": "3.8.3"
  }
 },
 "nbformat": 4,
 "nbformat_minor": 4
}
